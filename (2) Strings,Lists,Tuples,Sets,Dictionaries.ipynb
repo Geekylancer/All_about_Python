{
  "nbformat": 4,
  "nbformat_minor": 0,
  "metadata": {
    "colab": {
      "name": "Strings,Lists,Tuples,Sets,Dictionaries.ipynb",
      "provenance": [],
      "collapsed_sections": [
        "ocpjVZiwYp6Z",
        "s4vVGhjLRuuz",
        "qmnMmF0O-yCF",
        "k0nadm0wsL6e",
        "1NeGXvo25eaN"
      ]
    },
    "kernelspec": {
      "name": "python3",
      "display_name": "Python 3"
    }
  },
  "cells": [
    {
      "cell_type": "markdown",
      "metadata": {
        "id": "ocpjVZiwYp6Z",
        "colab_type": "text"
      },
      "source": [
        "# **Strings**"
      ]
    },
    {
      "cell_type": "code",
      "metadata": {
        "id": "eOkXDMMQYvSw",
        "colab_type": "code",
        "colab": {}
      },
      "source": [
        "s ='learner'"
      ],
      "execution_count": 0,
      "outputs": []
    },
    {
      "cell_type": "code",
      "metadata": {
        "id": "IsEFEgI_dlZd",
        "colab_type": "code",
        "outputId": "3a722804-5ae4-4282-f024-238ba8bd68b0",
        "colab": {
          "base_uri": "https://localhost:8080/",
          "height": 34
        }
      },
      "source": [
        "len(s)"
      ],
      "execution_count": 88,
      "outputs": [
        {
          "output_type": "execute_result",
          "data": {
            "text/plain": [
              "7"
            ]
          },
          "metadata": {
            "tags": []
          },
          "execution_count": 88
        }
      ]
    },
    {
      "cell_type": "code",
      "metadata": {
        "id": "LWprQASGc_IM",
        "colab_type": "code",
        "outputId": "b7d5f8ed-3e43-43c1-e453-e8ebb61f2535",
        "colab": {
          "base_uri": "https://localhost:8080/",
          "height": 34
        }
      },
      "source": [
        "s + 'document'"
      ],
      "execution_count": 89,
      "outputs": [
        {
          "output_type": "execute_result",
          "data": {
            "text/plain": [
              "'learnerdocument'"
            ]
          },
          "metadata": {
            "tags": []
          },
          "execution_count": 89
        }
      ]
    },
    {
      "cell_type": "code",
      "metadata": {
        "id": "k-M-rQ-IZCFI",
        "colab_type": "code",
        "outputId": "36ec521e-aeca-4a8e-dc3a-e63c48d879d5",
        "colab": {
          "base_uri": "https://localhost:8080/",
          "height": 34
        }
      },
      "source": [
        "s[0]                       # string indexing"
      ],
      "execution_count": 90,
      "outputs": [
        {
          "output_type": "execute_result",
          "data": {
            "text/plain": [
              "'l'"
            ]
          },
          "metadata": {
            "tags": []
          },
          "execution_count": 90
        }
      ]
    },
    {
      "cell_type": "code",
      "metadata": {
        "id": "qscWTfi4ZCMf",
        "colab_type": "code",
        "outputId": "bc57ff91-c7d7-4b35-9b44-bc72ee8c6048",
        "colab": {
          "base_uri": "https://localhost:8080/",
          "height": 34
        }
      },
      "source": [
        "s[-1]"
      ],
      "execution_count": 91,
      "outputs": [
        {
          "output_type": "execute_result",
          "data": {
            "text/plain": [
              "'r'"
            ]
          },
          "metadata": {
            "tags": []
          },
          "execution_count": 91
        }
      ]
    },
    {
      "cell_type": "code",
      "metadata": {
        "id": "-Ph1cE41dfS4",
        "colab_type": "code",
        "outputId": "85b13ba2-9f3f-4dcb-f68d-0dab0b7bbdc7",
        "colab": {
          "base_uri": "https://localhost:8080/",
          "height": 34
        }
      },
      "source": [
        "s[1:6]               # string slicing"
      ],
      "execution_count": 92,
      "outputs": [
        {
          "output_type": "execute_result",
          "data": {
            "text/plain": [
              "'earne'"
            ]
          },
          "metadata": {
            "tags": []
          },
          "execution_count": 92
        }
      ]
    },
    {
      "cell_type": "code",
      "metadata": {
        "id": "MKm80wkyZCTo",
        "colab_type": "code",
        "outputId": "d387438a-f1f2-4cb9-acfa-d23a7d072b12",
        "colab": {
          "base_uri": "https://localhost:8080/",
          "height": 153
        }
      },
      "source": [
        "print(s.capitalize())\n",
        "print(s.count('e'))\n",
        "print(s.endswith('w'))\n",
        "print(s.startswith('l'))\n",
        "print(s.upper())\n",
        "print(s.lower())\n",
        "print(s.isupper())\n",
        "print(s.islower())\n"
      ],
      "execution_count": 93,
      "outputs": [
        {
          "output_type": "stream",
          "text": [
            "Learner\n",
            "2\n",
            "False\n",
            "True\n",
            "LEARNER\n",
            "learner\n",
            "False\n",
            "True\n"
          ],
          "name": "stdout"
        }
      ]
    },
    {
      "cell_type": "code",
      "metadata": {
        "id": "avkfmIqUZCZF",
        "colab_type": "code",
        "colab": {}
      },
      "source": [
        "h = 'canvasllon'"
      ],
      "execution_count": 0,
      "outputs": []
    },
    {
      "cell_type": "code",
      "metadata": {
        "id": "P0dpSJQrZCd5",
        "colab_type": "code",
        "outputId": "6c4c3106-75f0-4112-8ebf-799c35e4a4b8",
        "colab": {
          "base_uri": "https://localhost:8080/",
          "height": 68
        }
      },
      "source": [
        "print(h.split())\n",
        "print(h.split('v'))\n",
        "print(h.partition('v'))"
      ],
      "execution_count": 95,
      "outputs": [
        {
          "output_type": "stream",
          "text": [
            "['canvasllon']\n",
            "['can', 'asllon']\n",
            "('can', 'v', 'asllon')\n"
          ],
          "name": "stdout"
        }
      ]
    },
    {
      "cell_type": "code",
      "metadata": {
        "id": "jllAO4I0DnXt",
        "colab_type": "code",
        "outputId": "ed6ded14-fc10-4802-9472-daa84adcbaf4",
        "colab": {
          "base_uri": "https://localhost:8080/",
          "height": 51
        }
      },
      "source": [
        "print(type(h.split()))\n",
        "print(type(h.partition('s')))"
      ],
      "execution_count": 96,
      "outputs": [
        {
          "output_type": "stream",
          "text": [
            "<class 'list'>\n",
            "<class 'tuple'>\n"
          ],
          "name": "stdout"
        }
      ]
    },
    {
      "cell_type": "code",
      "metadata": {
        "id": "rW2FSvLrZCjQ",
        "colab_type": "code",
        "outputId": "635335ba-1f7a-41f4-e053-028097c2868b",
        "colab": {
          "base_uri": "https://localhost:8080/",
          "height": 34
        }
      },
      "source": [
        "\"\\tLet's learn \\tto code\".expandtabs() "
      ],
      "execution_count": 97,
      "outputs": [
        {
          "output_type": "execute_result",
          "data": {
            "text/plain": [
              "\"        Let's learn     to code\""
            ]
          },
          "metadata": {
            "tags": []
          },
          "execution_count": 97
        }
      ]
    },
    {
      "cell_type": "code",
      "metadata": {
        "id": "wMseMfFucKHV",
        "colab_type": "code",
        "colab": {}
      },
      "source": [
        "x = \"random_string\""
      ],
      "execution_count": 0,
      "outputs": []
    },
    {
      "cell_type": "code",
      "metadata": {
        "id": "K2si6DvYcJ_2",
        "colab_type": "code",
        "outputId": "8ff022d1-9c51-443e-fbae-28154e787547",
        "colab": {
          "base_uri": "https://localhost:8080/",
          "height": 34
        }
      },
      "source": [
        "x.center(20,'z')"
      ],
      "execution_count": 99,
      "outputs": [
        {
          "output_type": "execute_result",
          "data": {
            "text/plain": [
              "'zzzrandom_stringzzzz'"
            ]
          },
          "metadata": {
            "tags": []
          },
          "execution_count": 99
        }
      ]
    },
    {
      "cell_type": "code",
      "metadata": {
        "id": "mcV6_mLuso1R",
        "colab_type": "code",
        "colab": {}
      },
      "source": [
        "c = 'Ganesha'"
      ],
      "execution_count": 0,
      "outputs": []
    },
    {
      "cell_type": "code",
      "metadata": {
        "id": "DXQ7Bz6Yszhn",
        "colab_type": "code",
        "outputId": "cdc87348-f4bf-4a12-97a2-c7c523f8fe91",
        "colab": {
          "base_uri": "https://localhost:8080/",
          "height": 102
        }
      },
      "source": [
        "print(c.find('n'))\n",
        "print(c.istitle())\n",
        "print(c.isalnum())\n",
        "print(c.isdecimal())\n",
        "print(c.isalpha())"
      ],
      "execution_count": 101,
      "outputs": [
        {
          "output_type": "stream",
          "text": [
            "2\n",
            "True\n",
            "True\n",
            "False\n",
            "True\n"
          ],
          "name": "stdout"
        }
      ]
    },
    {
      "cell_type": "markdown",
      "metadata": {
        "id": "s4vVGhjLRuuz",
        "colab_type": "text"
      },
      "source": [
        "# **Lists**"
      ]
    },
    {
      "cell_type": "code",
      "metadata": {
        "id": "3YDuTxMKR9bX",
        "colab_type": "code",
        "colab": {}
      },
      "source": [
        "a = []"
      ],
      "execution_count": 0,
      "outputs": []
    },
    {
      "cell_type": "code",
      "metadata": {
        "id": "cOc80GEBR-xO",
        "colab_type": "code",
        "outputId": "a9b458ea-a200-40f9-c2b6-305c6e687b84",
        "colab": {
          "base_uri": "https://localhost:8080/",
          "height": 34
        }
      },
      "source": [
        "type(a)"
      ],
      "execution_count": 103,
      "outputs": [
        {
          "output_type": "execute_result",
          "data": {
            "text/plain": [
              "list"
            ]
          },
          "metadata": {
            "tags": []
          },
          "execution_count": 103
        }
      ]
    },
    {
      "cell_type": "code",
      "metadata": {
        "id": "-Pot0JLjSBta",
        "colab_type": "code",
        "colab": {}
      },
      "source": [
        "b = list()"
      ],
      "execution_count": 0,
      "outputs": []
    },
    {
      "cell_type": "code",
      "metadata": {
        "id": "j0tUhyOISGXl",
        "colab_type": "code",
        "outputId": "d139f7a9-4956-4b24-e0bd-49ddc263862c",
        "colab": {
          "base_uri": "https://localhost:8080/",
          "height": 34
        }
      },
      "source": [
        "type(a)"
      ],
      "execution_count": 105,
      "outputs": [
        {
          "output_type": "execute_result",
          "data": {
            "text/plain": [
              "list"
            ]
          },
          "metadata": {
            "tags": []
          },
          "execution_count": 105
        }
      ]
    },
    {
      "cell_type": "code",
      "metadata": {
        "id": "JT2VbUepSHs_",
        "colab_type": "code",
        "outputId": "8a37f138-23d9-4382-aad0-58b83b22ce4e",
        "colab": {
          "base_uri": "https://localhost:8080/",
          "height": 34
        }
      },
      "source": [
        "range(4,18)"
      ],
      "execution_count": 106,
      "outputs": [
        {
          "output_type": "execute_result",
          "data": {
            "text/plain": [
              "range(4, 18)"
            ]
          },
          "metadata": {
            "tags": []
          },
          "execution_count": 106
        }
      ]
    },
    {
      "cell_type": "code",
      "metadata": {
        "id": "LTPbFGTOSL7n",
        "colab_type": "code",
        "outputId": "b7bd1aa0-04cd-4d45-b51d-53bd1d304ae4",
        "colab": {
          "base_uri": "https://localhost:8080/",
          "height": 34
        }
      },
      "source": [
        "list(range(4,18))"
      ],
      "execution_count": 107,
      "outputs": [
        {
          "output_type": "execute_result",
          "data": {
            "text/plain": [
              "[4, 5, 6, 7, 8, 9, 10, 11, 12, 13, 14, 15, 16, 17]"
            ]
          },
          "metadata": {
            "tags": []
          },
          "execution_count": 107
        }
      ]
    },
    {
      "cell_type": "code",
      "metadata": {
        "id": "fB8lV2QnuH7u",
        "colab_type": "code",
        "outputId": "cff66bf6-890c-409a-c0b1-c6853647944c",
        "colab": {
          "base_uri": "https://localhost:8080/",
          "height": 34
        }
      },
      "source": [
        "len(range(4,18))"
      ],
      "execution_count": 108,
      "outputs": [
        {
          "output_type": "execute_result",
          "data": {
            "text/plain": [
              "14"
            ]
          },
          "metadata": {
            "tags": []
          },
          "execution_count": 108
        }
      ]
    },
    {
      "cell_type": "code",
      "metadata": {
        "id": "qDuvyxiXSQCy",
        "colab_type": "code",
        "colab": {}
      },
      "source": [
        "l = [1,2,3,46,6,4,8,15]"
      ],
      "execution_count": 0,
      "outputs": []
    },
    {
      "cell_type": "code",
      "metadata": {
        "id": "KLFPm702VRP5",
        "colab_type": "code",
        "outputId": "7d6d6777-32c5-4af6-e39c-9d1c6349eb42",
        "colab": {
          "base_uri": "https://localhost:8080/",
          "height": 34
        }
      },
      "source": [
        "l[0]                        # list indexing"
      ],
      "execution_count": 110,
      "outputs": [
        {
          "output_type": "execute_result",
          "data": {
            "text/plain": [
              "1"
            ]
          },
          "metadata": {
            "tags": []
          },
          "execution_count": 110
        }
      ]
    },
    {
      "cell_type": "code",
      "metadata": {
        "id": "3IMJo8R6VTz4",
        "colab_type": "code",
        "outputId": "d1a35122-ff27-4109-ded0-1ac97bbc6b7c",
        "colab": {
          "base_uri": "https://localhost:8080/",
          "height": 34
        }
      },
      "source": [
        "l[-2]"
      ],
      "execution_count": 111,
      "outputs": [
        {
          "output_type": "execute_result",
          "data": {
            "text/plain": [
              "8"
            ]
          },
          "metadata": {
            "tags": []
          },
          "execution_count": 111
        }
      ]
    },
    {
      "cell_type": "code",
      "metadata": {
        "id": "lbD64ALIVdl2",
        "colab_type": "code",
        "outputId": "d8565535-b4a0-41df-9e24-5002aba90f45",
        "colab": {
          "base_uri": "https://localhost:8080/",
          "height": 34
        }
      },
      "source": [
        "l[2:6]    #list slicing operation where 2 is lower bound and 6 is upper bound & 1 is jump by-default"
      ],
      "execution_count": 112,
      "outputs": [
        {
          "output_type": "execute_result",
          "data": {
            "text/plain": [
              "[3, 46, 6, 4]"
            ]
          },
          "metadata": {
            "tags": []
          },
          "execution_count": 112
        }
      ]
    },
    {
      "cell_type": "code",
      "metadata": {
        "id": "Mw8FC_6rV-5Z",
        "colab_type": "code",
        "outputId": "c07d9485-6f52-4e3a-e707-ef23e318aaba",
        "colab": {
          "base_uri": "https://localhost:8080/",
          "height": 34
        }
      },
      "source": [
        "l[0:7:2]      #list can take 3 arguments i.e; lower and upper bounds and step-size/jump"
      ],
      "execution_count": 113,
      "outputs": [
        {
          "output_type": "execute_result",
          "data": {
            "text/plain": [
              "[1, 3, 6, 8]"
            ]
          },
          "metadata": {
            "tags": []
          },
          "execution_count": 113
        }
      ]
    },
    {
      "cell_type": "code",
      "metadata": {
        "id": "y83ekaLJVkaU",
        "colab_type": "code",
        "outputId": "a19d1a88-d6d3-4e2c-a13c-3f33e250ae14",
        "colab": {
          "base_uri": "https://localhost:8080/",
          "height": 34
        }
      },
      "source": [
        "l[0:7:-1]                  #shows empty list as jump is in opposite direction"
      ],
      "execution_count": 114,
      "outputs": [
        {
          "output_type": "execute_result",
          "data": {
            "text/plain": [
              "[]"
            ]
          },
          "metadata": {
            "tags": []
          },
          "execution_count": 114
        }
      ]
    },
    {
      "cell_type": "code",
      "metadata": {
        "id": "zOlIqVLpV2gs",
        "colab_type": "code",
        "outputId": "2e6bf497-3bb4-4e8d-cea2-a76e35bcb258",
        "colab": {
          "base_uri": "https://localhost:8080/",
          "height": 34
        }
      },
      "source": [
        "l[7:1:-3]"
      ],
      "execution_count": 115,
      "outputs": [
        {
          "output_type": "execute_result",
          "data": {
            "text/plain": [
              "[15, 6]"
            ]
          },
          "metadata": {
            "tags": []
          },
          "execution_count": 115
        }
      ]
    },
    {
      "cell_type": "code",
      "metadata": {
        "id": "RV03Dfm1WvLU",
        "colab_type": "code",
        "outputId": "6732c2ce-883f-468c-be8f-4c634c721d50",
        "colab": {
          "base_uri": "https://localhost:8080/",
          "height": 34
        }
      },
      "source": [
        "l[::-1]"
      ],
      "execution_count": 116,
      "outputs": [
        {
          "output_type": "execute_result",
          "data": {
            "text/plain": [
              "[15, 8, 4, 6, 46, 3, 2, 1]"
            ]
          },
          "metadata": {
            "tags": []
          },
          "execution_count": 116
        }
      ]
    },
    {
      "cell_type": "code",
      "metadata": {
        "id": "2GjLPywxeXSa",
        "colab_type": "code",
        "colab": {}
      },
      "source": [
        "l.reverse()                #reverse() permanently changes the list"
      ],
      "execution_count": 0,
      "outputs": []
    },
    {
      "cell_type": "code",
      "metadata": {
        "id": "uG0rdmv-eeHB",
        "colab_type": "code",
        "outputId": "7687dce9-d120-4947-f6d9-6b7126c55aed",
        "colab": {
          "base_uri": "https://localhost:8080/",
          "height": 34
        }
      },
      "source": [
        "l"
      ],
      "execution_count": 118,
      "outputs": [
        {
          "output_type": "execute_result",
          "data": {
            "text/plain": [
              "[15, 8, 4, 6, 46, 3, 2, 1]"
            ]
          },
          "metadata": {
            "tags": []
          },
          "execution_count": 118
        }
      ]
    },
    {
      "cell_type": "markdown",
      "metadata": {
        "id": "pdrcU8vp_Nrh",
        "colab_type": "text"
      },
      "source": [
        "**Nested Lists**"
      ]
    },
    {
      "cell_type": "code",
      "metadata": {
        "id": "h8ar80FU_GLq",
        "colab_type": "code",
        "colab": {}
      },
      "source": [
        "a = [4,5,6,7,8]\n",
        "b = [1,20,5,8,7,4]\n",
        "c = [8,5,4,5,62,0]\n",
        "d = a,b,c"
      ],
      "execution_count": 0,
      "outputs": []
    },
    {
      "cell_type": "code",
      "metadata": {
        "id": "VSiskz0K_hau",
        "colab_type": "code",
        "outputId": "3c0311d5-662d-4fee-8240-c5670cfdb74f",
        "colab": {
          "base_uri": "https://localhost:8080/",
          "height": 34
        }
      },
      "source": [
        "list(d)"
      ],
      "execution_count": 120,
      "outputs": [
        {
          "output_type": "execute_result",
          "data": {
            "text/plain": [
              "[[4, 5, 6, 7, 8], [1, 20, 5, 8, 7, 4], [8, 5, 4, 5, 62, 0]]"
            ]
          },
          "metadata": {
            "tags": []
          },
          "execution_count": 120
        }
      ]
    },
    {
      "cell_type": "code",
      "metadata": {
        "id": "6v1VrVLL_-3j",
        "colab_type": "code",
        "outputId": "a8d3c844-359e-47fd-c912-3d0b07c87d61",
        "colab": {
          "base_uri": "https://localhost:8080/",
          "height": 34
        }
      },
      "source": [
        "##Sample Question\n",
        "\n",
        "l =[4,5,6,5,7,8,9,[4,5,6,7,7,5]]\n",
        "for i in l:\n",
        "    if i == 5:\n",
        "        l.remove(5)\n",
        "    if type(i) == list:\n",
        "        for j in i:\n",
        "            if j == 5:\n",
        "                i.remove(5)\n",
        "l"
      ],
      "execution_count": 121,
      "outputs": [
        {
          "output_type": "execute_result",
          "data": {
            "text/plain": [
              "[4, 6, 7, 8, 9, [4, 6, 7, 7]]"
            ]
          },
          "metadata": {
            "tags": []
          },
          "execution_count": 121
        }
      ]
    },
    {
      "cell_type": "markdown",
      "metadata": {
        "id": "xWZzQN8ce3QE",
        "colab_type": "text"
      },
      "source": [
        "**List manipulation opeartions**"
      ]
    },
    {
      "cell_type": "code",
      "metadata": {
        "id": "dGL654Hmej6p",
        "colab_type": "code",
        "colab": {}
      },
      "source": [
        "lis = [2,4,6,3,1,4,86,9]"
      ],
      "execution_count": 0,
      "outputs": []
    },
    {
      "cell_type": "code",
      "metadata": {
        "id": "EUJN01xWf67_",
        "colab_type": "code",
        "outputId": "fb3dd885-cb79-493e-ab18-3ada520ee4ba",
        "colab": {
          "base_uri": "https://localhost:8080/",
          "height": 34
        }
      },
      "source": [
        "type(lis)"
      ],
      "execution_count": 123,
      "outputs": [
        {
          "output_type": "execute_result",
          "data": {
            "text/plain": [
              "list"
            ]
          },
          "metadata": {
            "tags": []
          },
          "execution_count": 123
        }
      ]
    },
    {
      "cell_type": "code",
      "metadata": {
        "id": "b0xMg7F6f93w",
        "colab_type": "code",
        "outputId": "6506d675-47ca-4f78-f83c-b86e4f473c63",
        "colab": {
          "base_uri": "https://localhost:8080/",
          "height": 34
        }
      },
      "source": [
        "len(lis)"
      ],
      "execution_count": 124,
      "outputs": [
        {
          "output_type": "execute_result",
          "data": {
            "text/plain": [
              "8"
            ]
          },
          "metadata": {
            "tags": []
          },
          "execution_count": 124
        }
      ]
    },
    {
      "cell_type": "code",
      "metadata": {
        "id": "WBXZH23LfHsi",
        "colab_type": "code",
        "colab": {}
      },
      "source": [
        "lis.append(101)"
      ],
      "execution_count": 0,
      "outputs": []
    },
    {
      "cell_type": "code",
      "metadata": {
        "id": "JKbMX2kpfM6A",
        "colab_type": "code",
        "outputId": "345c7eba-b092-487d-9fc8-cca06f63a477",
        "colab": {
          "base_uri": "https://localhost:8080/",
          "height": 34
        }
      },
      "source": [
        "lis"
      ],
      "execution_count": 126,
      "outputs": [
        {
          "output_type": "execute_result",
          "data": {
            "text/plain": [
              "[2, 4, 6, 3, 1, 4, 86, 9, 101]"
            ]
          },
          "metadata": {
            "tags": []
          },
          "execution_count": 126
        }
      ]
    },
    {
      "cell_type": "code",
      "metadata": {
        "id": "nwaWHEDmfRGc",
        "colab_type": "code",
        "colab": {}
      },
      "source": [
        "lis.insert(4,55)"
      ],
      "execution_count": 0,
      "outputs": []
    },
    {
      "cell_type": "code",
      "metadata": {
        "id": "Eee7nQUBf17V",
        "colab_type": "code",
        "outputId": "f0e46b18-cad6-43a2-957b-e13800d6cc61",
        "colab": {
          "base_uri": "https://localhost:8080/",
          "height": 34
        }
      },
      "source": [
        "lis"
      ],
      "execution_count": 128,
      "outputs": [
        {
          "output_type": "execute_result",
          "data": {
            "text/plain": [
              "[2, 4, 6, 3, 55, 1, 4, 86, 9, 101]"
            ]
          },
          "metadata": {
            "tags": []
          },
          "execution_count": 128
        }
      ]
    },
    {
      "cell_type": "code",
      "metadata": {
        "id": "wZ60-7mYf3Vj",
        "colab_type": "code",
        "colab": {}
      },
      "source": [
        "lis.extend([1,4,5,7,89,3])"
      ],
      "execution_count": 0,
      "outputs": []
    },
    {
      "cell_type": "code",
      "metadata": {
        "id": "j_Bq63mqgN7w",
        "colab_type": "code",
        "outputId": "68e2fe2e-c4be-435b-da6c-e83f8756f73e",
        "colab": {
          "base_uri": "https://localhost:8080/",
          "height": 34
        }
      },
      "source": [
        "lis"
      ],
      "execution_count": 130,
      "outputs": [
        {
          "output_type": "execute_result",
          "data": {
            "text/plain": [
              "[2, 4, 6, 3, 55, 1, 4, 86, 9, 101, 1, 4, 5, 7, 89, 3]"
            ]
          },
          "metadata": {
            "tags": []
          },
          "execution_count": 130
        }
      ]
    },
    {
      "cell_type": "code",
      "metadata": {
        "id": "fa9pdPyJgiB6",
        "colab_type": "code",
        "outputId": "f7f451cd-bc7e-447f-dcce-39f15b2bb5ea",
        "colab": {
          "base_uri": "https://localhost:8080/",
          "height": 34
        }
      },
      "source": [
        "lis.pop()   #pop() doesn't take any index values,element from the list is omitted from the right side(but possible using remove())"
      ],
      "execution_count": 131,
      "outputs": [
        {
          "output_type": "execute_result",
          "data": {
            "text/plain": [
              "3"
            ]
          },
          "metadata": {
            "tags": []
          },
          "execution_count": 131
        }
      ]
    },
    {
      "cell_type": "code",
      "metadata": {
        "id": "KN_uNrIHgxQ4",
        "colab_type": "code",
        "outputId": "72dc02d1-9c07-4f41-e929-cde7991492a3",
        "colab": {
          "base_uri": "https://localhost:8080/",
          "height": 34
        }
      },
      "source": [
        "lis"
      ],
      "execution_count": 132,
      "outputs": [
        {
          "output_type": "execute_result",
          "data": {
            "text/plain": [
              "[2, 4, 6, 3, 55, 1, 4, 86, 9, 101, 1, 4, 5, 7, 89]"
            ]
          },
          "metadata": {
            "tags": []
          },
          "execution_count": 132
        }
      ]
    },
    {
      "cell_type": "code",
      "metadata": {
        "id": "GPbmxqELgyrn",
        "colab_type": "code",
        "colab": {}
      },
      "source": [
        "m = [1,2,5,6,3,2,8,10,[1,0,2,5,5,6],'pipeline']\n",
        "m.remove(2)"
      ],
      "execution_count": 0,
      "outputs": []
    },
    {
      "cell_type": "code",
      "metadata": {
        "id": "S8rs5H2PiGG_",
        "colab_type": "code",
        "outputId": "82bba520-810a-4177-ac0e-f703b9451b3e",
        "colab": {
          "base_uri": "https://localhost:8080/",
          "height": 34
        }
      },
      "source": [
        "m"
      ],
      "execution_count": 134,
      "outputs": [
        {
          "output_type": "execute_result",
          "data": {
            "text/plain": [
              "[1, 5, 6, 3, 2, 8, 10, [1, 0, 2, 5, 5, 6], 'pipeline']"
            ]
          },
          "metadata": {
            "tags": []
          },
          "execution_count": 134
        }
      ]
    },
    {
      "cell_type": "code",
      "metadata": {
        "id": "WSXWqEywiG7U",
        "colab_type": "code",
        "outputId": "e7a589e4-b25c-4b9c-8c09-d72aec36680b",
        "colab": {
          "base_uri": "https://localhost:8080/",
          "height": 34
        }
      },
      "source": [
        "n = [4,5,6,8,2,2,[1,2,3,6,9,87]]\n",
        "empty = []\n",
        "for i in n:\n",
        "    empty.append(i*2)\n",
        "empty"
      ],
      "execution_count": 135,
      "outputs": [
        {
          "output_type": "execute_result",
          "data": {
            "text/plain": [
              "[8, 10, 12, 16, 4, 4, [1, 2, 3, 6, 9, 87, 1, 2, 3, 6, 9, 87]]"
            ]
          },
          "metadata": {
            "tags": []
          },
          "execution_count": 135
        }
      ]
    },
    {
      "cell_type": "code",
      "metadata": {
        "id": "zZ-2uumancBe",
        "colab_type": "code",
        "colab": {}
      },
      "source": [
        "d = [1,2,5,6,9,7,15,12,3]"
      ],
      "execution_count": 0,
      "outputs": []
    },
    {
      "cell_type": "code",
      "metadata": {
        "id": "E1NHKztCnjOA",
        "colab_type": "code",
        "outputId": "9739d840-ea0d-4f02-8112-594fbbb881da",
        "colab": {
          "base_uri": "https://localhost:8080/",
          "height": 34
        }
      },
      "source": [
        "d.sort()\n",
        "d"
      ],
      "execution_count": 137,
      "outputs": [
        {
          "output_type": "execute_result",
          "data": {
            "text/plain": [
              "[1, 2, 3, 5, 6, 7, 9, 12, 15]"
            ]
          },
          "metadata": {
            "tags": []
          },
          "execution_count": 137
        }
      ]
    },
    {
      "cell_type": "code",
      "metadata": {
        "id": "-6ol0b8En-n7",
        "colab_type": "code",
        "outputId": "645e6b04-f37c-4ada-80dd-f07231cddad4",
        "colab": {
          "base_uri": "https://localhost:8080/",
          "height": 34
        }
      },
      "source": [
        "d.sort(reverse = True)\n",
        "d"
      ],
      "execution_count": 138,
      "outputs": [
        {
          "output_type": "execute_result",
          "data": {
            "text/plain": [
              "[15, 12, 9, 7, 6, 5, 3, 2, 1]"
            ]
          },
          "metadata": {
            "tags": []
          },
          "execution_count": 138
        }
      ]
    },
    {
      "cell_type": "markdown",
      "metadata": {
        "id": "IQvs4tALjoNn",
        "colab_type": "text"
      },
      "source": [
        "**List comprehension**"
      ]
    },
    {
      "cell_type": "code",
      "metadata": {
        "id": "_667JEafjHnu",
        "colab_type": "code",
        "outputId": "f903b13f-0f37-4d53-848a-108cd914808e",
        "colab": {
          "base_uri": "https://localhost:8080/",
          "height": 34
        }
      },
      "source": [
        "n = [4,5,6,8,2,2,[1,2,3,6,9,87]]\n",
        "[i*2 for i in n]"
      ],
      "execution_count": 139,
      "outputs": [
        {
          "output_type": "execute_result",
          "data": {
            "text/plain": [
              "[8, 10, 12, 16, 4, 4, [1, 2, 3, 6, 9, 87, 1, 2, 3, 6, 9, 87]]"
            ]
          },
          "metadata": {
            "tags": []
          },
          "execution_count": 139
        }
      ]
    },
    {
      "cell_type": "code",
      "metadata": {
        "id": "BV4CO3LYjxuh",
        "colab_type": "code",
        "outputId": "55bf8c7c-bbe7-4158-b7ee-21ed8732e536",
        "colab": {
          "base_uri": "https://localhost:8080/",
          "height": 34
        }
      },
      "source": [
        "r = [2,3,4]\n",
        "\n",
        "[[i] for i in r]"
      ],
      "execution_count": 140,
      "outputs": [
        {
          "output_type": "execute_result",
          "data": {
            "text/plain": [
              "[[2], [3], [4]]"
            ]
          },
          "metadata": {
            "tags": []
          },
          "execution_count": 140
        }
      ]
    },
    {
      "cell_type": "code",
      "metadata": {
        "id": "zn2TOwqVkDaW",
        "colab_type": "code",
        "outputId": "a70ff7c4-0594-41fc-9a9d-7d319041319a",
        "colab": {
          "base_uri": "https://localhost:8080/",
          "height": 34
        }
      },
      "source": [
        "emp = []\n",
        "for i in r:\n",
        "    for j in range(1,4):\n",
        "        emp.append([i,j])\n",
        "emp\n"
      ],
      "execution_count": 141,
      "outputs": [
        {
          "output_type": "execute_result",
          "data": {
            "text/plain": [
              "[[2, 1], [2, 2], [2, 3], [3, 1], [3, 2], [3, 3], [4, 1], [4, 2], [4, 3]]"
            ]
          },
          "metadata": {
            "tags": []
          },
          "execution_count": 141
        }
      ]
    },
    {
      "cell_type": "code",
      "metadata": {
        "id": "H4a_lnNWknWN",
        "colab_type": "code",
        "outputId": "aca8704d-433b-46de-c13d-2f1c06579d9d",
        "colab": {
          "base_uri": "https://localhost:8080/",
          "height": 34
        }
      },
      "source": [
        "[[i,j]for i in r for j in range(1,4)]"
      ],
      "execution_count": 142,
      "outputs": [
        {
          "output_type": "execute_result",
          "data": {
            "text/plain": [
              "[[2, 1], [2, 2], [2, 3], [3, 1], [3, 2], [3, 3], [4, 1], [4, 2], [4, 3]]"
            ]
          },
          "metadata": {
            "tags": []
          },
          "execution_count": 142
        }
      ]
    },
    {
      "cell_type": "code",
      "metadata": {
        "id": "DfCa2Ah-l582",
        "colab_type": "code",
        "outputId": "1d3d6dfb-5431-46b5-83da-f0ed341fef4e",
        "colab": {
          "base_uri": "https://localhost:8080/",
          "height": 34
        }
      },
      "source": [
        "[[j,i] for i in range(1,4) for i in r]"
      ],
      "execution_count": 143,
      "outputs": [
        {
          "output_type": "execute_result",
          "data": {
            "text/plain": [
              "[[3, 2], [3, 3], [3, 4], [3, 2], [3, 3], [3, 4], [3, 2], [3, 3], [3, 4]]"
            ]
          },
          "metadata": {
            "tags": []
          },
          "execution_count": 143
        }
      ]
    },
    {
      "cell_type": "code",
      "metadata": {
        "id": "9cNiMQiTmSZl",
        "colab_type": "code",
        "outputId": "52899b6c-e6fc-49ac-c5cf-d95e78bd3eb8",
        "colab": {
          "base_uri": "https://localhost:8080/",
          "height": 34
        }
      },
      "source": [
        "ls = ['s','t','a','r']\n",
        "[i.upper() for i in ls]"
      ],
      "execution_count": 144,
      "outputs": [
        {
          "output_type": "execute_result",
          "data": {
            "text/plain": [
              "['S', 'T', 'A', 'R']"
            ]
          },
          "metadata": {
            "tags": []
          },
          "execution_count": 144
        }
      ]
    },
    {
      "cell_type": "code",
      "metadata": {
        "id": "PKou8jbQvREL",
        "colab_type": "code",
        "outputId": "f76ee274-d8ca-473a-9fb9-73cd86c7dc47",
        "colab": {
          "base_uri": "https://localhost:8080/",
          "height": 34
        }
      },
      "source": [
        "ls1 = ['a','b','c']\n",
        "[j*i for i in range(1,4) for j in ls1]"
      ],
      "execution_count": 145,
      "outputs": [
        {
          "output_type": "execute_result",
          "data": {
            "text/plain": [
              "['a', 'b', 'c', 'aa', 'bb', 'cc', 'aaa', 'bbb', 'ccc']"
            ]
          },
          "metadata": {
            "tags": []
          },
          "execution_count": 145
        }
      ]
    },
    {
      "cell_type": "code",
      "metadata": {
        "id": "L41Q5pL0wjAi",
        "colab_type": "code",
        "outputId": "bd9a9a10-f47d-4717-f5b9-51c64ae0c267",
        "colab": {
          "base_uri": "https://localhost:8080/",
          "height": 34
        }
      },
      "source": [
        "[i*j for j in ls1 for i in range(1,4)]"
      ],
      "execution_count": 146,
      "outputs": [
        {
          "output_type": "execute_result",
          "data": {
            "text/plain": [
              "['a', 'aa', 'aaa', 'b', 'bb', 'bbb', 'c', 'cc', 'ccc']"
            ]
          },
          "metadata": {
            "tags": []
          },
          "execution_count": 146
        }
      ]
    },
    {
      "cell_type": "code",
      "metadata": {
        "id": "BMr69NBgww_B",
        "colab_type": "code",
        "outputId": "d991ec9e-1ca0-4aa0-ca3e-8235838d15be",
        "colab": {
          "base_uri": "https://localhost:8080/",
          "height": 34
        }
      },
      "source": [
        "ls2 = [2,3,4,5]\n",
        "[[i+j for j in ls2] for i in range(len(ls2))]"
      ],
      "execution_count": 147,
      "outputs": [
        {
          "output_type": "execute_result",
          "data": {
            "text/plain": [
              "[[2, 3, 4, 5], [3, 4, 5, 6], [4, 5, 6, 7], [5, 6, 7, 8]]"
            ]
          },
          "metadata": {
            "tags": []
          },
          "execution_count": 147
        }
      ]
    },
    {
      "cell_type": "markdown",
      "metadata": {
        "id": "qmnMmF0O-yCF",
        "colab_type": "text"
      },
      "source": [
        "# **Tuples**"
      ]
    },
    {
      "cell_type": "code",
      "metadata": {
        "id": "vBmK3n5l-4AM",
        "colab_type": "code",
        "outputId": "53dfcc27-04ef-4f7a-e546-d02fa9865c6a",
        "colab": {
          "base_uri": "https://localhost:8080/",
          "height": 34
        }
      },
      "source": [
        "a = ()\n",
        "type(a)"
      ],
      "execution_count": 148,
      "outputs": [
        {
          "output_type": "execute_result",
          "data": {
            "text/plain": [
              "tuple"
            ]
          },
          "metadata": {
            "tags": []
          },
          "execution_count": 148
        }
      ]
    },
    {
      "cell_type": "code",
      "metadata": {
        "id": "XH7DwxvCDbBG",
        "colab_type": "code",
        "colab": {}
      },
      "source": [
        "a = ('king',1,2,5,6)"
      ],
      "execution_count": 0,
      "outputs": []
    },
    {
      "cell_type": "code",
      "metadata": {
        "id": "zqgE5CedEMIc",
        "colab_type": "code",
        "outputId": "1b394077-5d25-48d6-c1a6-f93272ebe7b0",
        "colab": {
          "base_uri": "https://localhost:8080/",
          "height": 34
        }
      },
      "source": [
        "a[0]"
      ],
      "execution_count": 150,
      "outputs": [
        {
          "output_type": "execute_result",
          "data": {
            "text/plain": [
              "'king'"
            ]
          },
          "metadata": {
            "tags": []
          },
          "execution_count": 150
        }
      ]
    },
    {
      "cell_type": "code",
      "metadata": {
        "id": "8Rry623LENVA",
        "colab_type": "code",
        "outputId": "eb49ee8c-7b25-407c-e9c0-eb5529c0372a",
        "colab": {
          "base_uri": "https://localhost:8080/",
          "height": 34
        }
      },
      "source": [
        "a[-2]"
      ],
      "execution_count": 151,
      "outputs": [
        {
          "output_type": "execute_result",
          "data": {
            "text/plain": [
              "5"
            ]
          },
          "metadata": {
            "tags": []
          },
          "execution_count": 151
        }
      ]
    },
    {
      "cell_type": "code",
      "metadata": {
        "id": "gdjcHmSbEPhT",
        "colab_type": "code",
        "outputId": "bc34b559-d481-4e50-af74-e412d6583163",
        "colab": {
          "base_uri": "https://localhost:8080/",
          "height": 34
        }
      },
      "source": [
        "a[1:]"
      ],
      "execution_count": 152,
      "outputs": [
        {
          "output_type": "execute_result",
          "data": {
            "text/plain": [
              "(1, 2, 5, 6)"
            ]
          },
          "metadata": {
            "tags": []
          },
          "execution_count": 152
        }
      ]
    },
    {
      "cell_type": "code",
      "metadata": {
        "id": "BMpAD7N2rbVh",
        "colab_type": "code",
        "outputId": "2afea683-826a-48a0-dc66-01ec956a18d7",
        "colab": {
          "base_uri": "https://localhost:8080/",
          "height": 34
        }
      },
      "source": [
        "a[::-1]"
      ],
      "execution_count": 153,
      "outputs": [
        {
          "output_type": "execute_result",
          "data": {
            "text/plain": [
              "(6, 5, 2, 1, 'king')"
            ]
          },
          "metadata": {
            "tags": []
          },
          "execution_count": 153
        }
      ]
    },
    {
      "cell_type": "code",
      "metadata": {
        "id": "5Cnp9agRET5H",
        "colab_type": "code",
        "colab": {}
      },
      "source": [
        "b = tuple()"
      ],
      "execution_count": 0,
      "outputs": []
    },
    {
      "cell_type": "code",
      "metadata": {
        "id": "Hx5_y_DwEgjJ",
        "colab_type": "code",
        "outputId": "6e672b6e-20b2-487f-9bfb-56c3b38cd17b",
        "colab": {
          "base_uri": "https://localhost:8080/",
          "height": 34
        }
      },
      "source": [
        "type(b)"
      ],
      "execution_count": 155,
      "outputs": [
        {
          "output_type": "execute_result",
          "data": {
            "text/plain": [
              "tuple"
            ]
          },
          "metadata": {
            "tags": []
          },
          "execution_count": 155
        }
      ]
    },
    {
      "cell_type": "code",
      "metadata": {
        "id": "N-QZWOK6EjIu",
        "colab_type": "code",
        "colab": {}
      },
      "source": [
        "# tuple to list and back to tuple\n",
        "\n",
        "t = (1,2,5,[5,8,9,6],(2,4,5),'jurassic')"
      ],
      "execution_count": 0,
      "outputs": []
    },
    {
      "cell_type": "code",
      "metadata": {
        "id": "WuU4AW2wFBF7",
        "colab_type": "code",
        "outputId": "4218f0fc-7c99-4d96-d323-9388c0189f62",
        "colab": {
          "base_uri": "https://localhost:8080/",
          "height": 34
        }
      },
      "source": [
        "list(t)"
      ],
      "execution_count": 157,
      "outputs": [
        {
          "output_type": "execute_result",
          "data": {
            "text/plain": [
              "[1, 2, 5, [5, 8, 9, 6], (2, 4, 5), 'jurassic']"
            ]
          },
          "metadata": {
            "tags": []
          },
          "execution_count": 157
        }
      ]
    },
    {
      "cell_type": "code",
      "metadata": {
        "id": "wUApIlzIFDgM",
        "colab_type": "code",
        "outputId": "e28b9b60-e6d5-40dd-8618-9e92ebef21fe",
        "colab": {
          "base_uri": "https://localhost:8080/",
          "height": 34
        }
      },
      "source": [
        "l = list(t)\n",
        "tuple(l)"
      ],
      "execution_count": 158,
      "outputs": [
        {
          "output_type": "execute_result",
          "data": {
            "text/plain": [
              "(1, 2, 5, [5, 8, 9, 6], (2, 4, 5), 'jurassic')"
            ]
          },
          "metadata": {
            "tags": []
          },
          "execution_count": 158
        }
      ]
    },
    {
      "cell_type": "code",
      "metadata": {
        "id": "nXgdGnsyFK4Z",
        "colab_type": "code",
        "outputId": "6f512c5b-d715-46cb-c941-b941e1ecdc7f",
        "colab": {
          "base_uri": "https://localhost:8080/",
          "height": 34
        }
      },
      "source": [
        "tuple(range(1,7))"
      ],
      "execution_count": 159,
      "outputs": [
        {
          "output_type": "execute_result",
          "data": {
            "text/plain": [
              "(1, 2, 3, 4, 5, 6)"
            ]
          },
          "metadata": {
            "tags": []
          },
          "execution_count": 159
        }
      ]
    },
    {
      "cell_type": "code",
      "metadata": {
        "id": "2q-o_s_golfE",
        "colab_type": "code",
        "colab": {}
      },
      "source": [
        "s = (1,2,5,3,5,7,1,5,2,6,5,8)"
      ],
      "execution_count": 0,
      "outputs": []
    },
    {
      "cell_type": "code",
      "metadata": {
        "id": "iWJzSNSQpHx4",
        "colab_type": "code",
        "outputId": "f3799a50-14a2-4559-ec68-792e3f15d53d",
        "colab": {
          "base_uri": "https://localhost:8080/",
          "height": 34
        }
      },
      "source": [
        "s.count(5)"
      ],
      "execution_count": 161,
      "outputs": [
        {
          "output_type": "execute_result",
          "data": {
            "text/plain": [
              "4"
            ]
          },
          "metadata": {
            "tags": []
          },
          "execution_count": 161
        }
      ]
    },
    {
      "cell_type": "code",
      "metadata": {
        "id": "1Sg1r1ZjpTlE",
        "colab_type": "code",
        "outputId": "382d4ff8-e882-47e4-87ef-c11f6cb33886",
        "colab": {
          "base_uri": "https://localhost:8080/",
          "height": 51
        }
      },
      "source": [
        "print(s.index(5))                         # takes only first index as it encounters\n",
        "print(s.index(6))"
      ],
      "execution_count": 162,
      "outputs": [
        {
          "output_type": "stream",
          "text": [
            "2\n",
            "9\n"
          ],
          "name": "stdout"
        }
      ]
    },
    {
      "cell_type": "code",
      "metadata": {
        "id": "aCp-Nq1Npieq",
        "colab_type": "code",
        "colab": {}
      },
      "source": [
        "t1 = (1,2,6,3,8,4,(4,8,9,20,12,3))\n",
        "t2 = ('doom',[4,5,6,9,2,1,7],(5-9j))\n",
        " \n",
        "t3 = t1+t2"
      ],
      "execution_count": 0,
      "outputs": []
    },
    {
      "cell_type": "code",
      "metadata": {
        "id": "6zJKNy6OqRdp",
        "colab_type": "code",
        "outputId": "bf422455-6437-4e32-b454-9883f5bd45ac",
        "colab": {
          "base_uri": "https://localhost:8080/",
          "height": 34
        }
      },
      "source": [
        "t3                                      #concatenation"
      ],
      "execution_count": 164,
      "outputs": [
        {
          "output_type": "execute_result",
          "data": {
            "text/plain": [
              "(1, 2, 6, 3, 8, 4, (4, 8, 9, 20, 12, 3), 'doom', [4, 5, 6, 9, 2, 1, 7], (5-9j))"
            ]
          },
          "metadata": {
            "tags": []
          },
          "execution_count": 164
        }
      ]
    },
    {
      "cell_type": "markdown",
      "metadata": {
        "id": "k0nadm0wsL6e",
        "colab_type": "text"
      },
      "source": [
        "# **Sets**"
      ]
    },
    {
      "cell_type": "code",
      "metadata": {
        "id": "uZs-kGa7sPwu",
        "colab_type": "code",
        "outputId": "ad4afc63-e314-4768-ae5e-e8af234b2e2f",
        "colab": {
          "base_uri": "https://localhost:8080/",
          "height": 34
        }
      },
      "source": [
        "s = set()\n",
        "type(s)"
      ],
      "execution_count": 165,
      "outputs": [
        {
          "output_type": "execute_result",
          "data": {
            "text/plain": [
              "set"
            ]
          },
          "metadata": {
            "tags": []
          },
          "execution_count": 165
        }
      ]
    },
    {
      "cell_type": "code",
      "metadata": {
        "id": "Kj_E8aJWx4zn",
        "colab_type": "code",
        "outputId": "e5d33a5b-5049-4b5d-ae7f-f48691e3bd33",
        "colab": {
          "base_uri": "https://localhost:8080/",
          "height": 34
        }
      },
      "source": [
        "s1 = {3}\n",
        "type(s1)"
      ],
      "execution_count": 166,
      "outputs": [
        {
          "output_type": "execute_result",
          "data": {
            "text/plain": [
              "set"
            ]
          },
          "metadata": {
            "tags": []
          },
          "execution_count": 166
        }
      ]
    },
    {
      "cell_type": "code",
      "metadata": {
        "id": "92Z7l0tyyAaN",
        "colab_type": "code",
        "outputId": "51adc8ef-8061-4353-ea23-65705de4d33e",
        "colab": {
          "base_uri": "https://localhost:8080/",
          "height": 34
        }
      },
      "source": [
        "s2 = {}\n",
        "type(s2)"
      ],
      "execution_count": 167,
      "outputs": [
        {
          "output_type": "execute_result",
          "data": {
            "text/plain": [
              "dict"
            ]
          },
          "metadata": {
            "tags": []
          },
          "execution_count": 167
        }
      ]
    },
    {
      "cell_type": "code",
      "metadata": {
        "id": "1B4ipWm7yGG-",
        "colab_type": "code",
        "colab": {}
      },
      "source": [
        "g = set((1,2,5,9,3,4,6,8,7,'akrldv'))"
      ],
      "execution_count": 0,
      "outputs": []
    },
    {
      "cell_type": "code",
      "metadata": {
        "id": "VxmlBEelyRni",
        "colab_type": "code",
        "outputId": "c6f2ab00-1bef-417d-9099-4f9bd400820e",
        "colab": {
          "base_uri": "https://localhost:8080/",
          "height": 34
        }
      },
      "source": [
        "g"
      ],
      "execution_count": 169,
      "outputs": [
        {
          "output_type": "execute_result",
          "data": {
            "text/plain": [
              "{1, 2, 3, 4, 5, 6, 7, 8, 9, 'akrldv'}"
            ]
          },
          "metadata": {
            "tags": []
          },
          "execution_count": 169
        }
      ]
    },
    {
      "cell_type": "code",
      "metadata": {
        "id": "XtzfdrFxyc-J",
        "colab_type": "code",
        "outputId": "7cd6d97c-66a8-4a44-c4ff-f0849e981721",
        "colab": {
          "base_uri": "https://localhost:8080/",
          "height": 34
        }
      },
      "source": [
        "g.pop()             # pops element/data from first index"
      ],
      "execution_count": 170,
      "outputs": [
        {
          "output_type": "execute_result",
          "data": {
            "text/plain": [
              "1"
            ]
          },
          "metadata": {
            "tags": []
          },
          "execution_count": 170
        }
      ]
    },
    {
      "cell_type": "code",
      "metadata": {
        "id": "ISGbTqhnyeMb",
        "colab_type": "code",
        "outputId": "832c3c26-12c2-4850-a48c-0c9271d3d8d4",
        "colab": {
          "base_uri": "https://localhost:8080/",
          "height": 34
        }
      },
      "source": [
        "g"
      ],
      "execution_count": 171,
      "outputs": [
        {
          "output_type": "execute_result",
          "data": {
            "text/plain": [
              "{2, 3, 4, 5, 6, 7, 8, 9, 'akrldv'}"
            ]
          },
          "metadata": {
            "tags": []
          },
          "execution_count": 171
        }
      ]
    },
    {
      "cell_type": "code",
      "metadata": {
        "id": "Bwa7CDp00H_1",
        "colab_type": "code",
        "colab": {}
      },
      "source": [
        "g.remove(7)"
      ],
      "execution_count": 0,
      "outputs": []
    },
    {
      "cell_type": "code",
      "metadata": {
        "id": "hczNqZKC0dhK",
        "colab_type": "code",
        "outputId": "bf7edd91-f8d1-4869-80ee-ecfd1489ddbd",
        "colab": {
          "base_uri": "https://localhost:8080/",
          "height": 34
        }
      },
      "source": [
        "g"
      ],
      "execution_count": 173,
      "outputs": [
        {
          "output_type": "execute_result",
          "data": {
            "text/plain": [
              "{2, 3, 4, 5, 6, 8, 9, 'akrldv'}"
            ]
          },
          "metadata": {
            "tags": []
          },
          "execution_count": 173
        }
      ]
    },
    {
      "cell_type": "code",
      "metadata": {
        "id": "nhfRT1Wg0eay",
        "colab_type": "code",
        "outputId": "54432618-9b33-45c2-e802-5319db1d48b5",
        "colab": {
          "base_uri": "https://localhost:8080/",
          "height": 34
        }
      },
      "source": [
        "#set to list and again to set\n",
        "\n",
        "s = set([1,5,8,3,(2,5,12,6,14,8),True,(32+25j)]) #sets helps in building unordered collection of unique elements\n",
        "s"
      ],
      "execution_count": 174,
      "outputs": [
        {
          "output_type": "execute_result",
          "data": {
            "text/plain": [
              "{(2, 5, 12, 6, 14, 8), (32+25j), 1, 3, 5, 8}"
            ]
          },
          "metadata": {
            "tags": []
          },
          "execution_count": 174
        }
      ]
    },
    {
      "cell_type": "code",
      "metadata": {
        "id": "Iyub0WZt1EUU",
        "colab_type": "code",
        "colab": {}
      },
      "source": [
        "st = list(s)"
      ],
      "execution_count": 0,
      "outputs": []
    },
    {
      "cell_type": "code",
      "metadata": {
        "id": "nEwDZF1B1Pvl",
        "colab_type": "code",
        "outputId": "550c2da0-9347-4bc9-ffec-2532ff498609",
        "colab": {
          "base_uri": "https://localhost:8080/",
          "height": 34
        }
      },
      "source": [
        "st"
      ],
      "execution_count": 176,
      "outputs": [
        {
          "output_type": "execute_result",
          "data": {
            "text/plain": [
              "[1, 3, 5, 8, (32+25j), (2, 5, 12, 6, 14, 8)]"
            ]
          },
          "metadata": {
            "tags": []
          },
          "execution_count": 176
        }
      ]
    },
    {
      "cell_type": "code",
      "metadata": {
        "id": "lEf04hCG18xK",
        "colab_type": "code",
        "outputId": "792b32c6-c7de-48b4-9acd-41b572829fbd",
        "colab": {
          "base_uri": "https://localhost:8080/",
          "height": 34
        }
      },
      "source": [
        "set(st)"
      ],
      "execution_count": 177,
      "outputs": [
        {
          "output_type": "execute_result",
          "data": {
            "text/plain": [
              "{(2, 5, 12, 6, 14, 8), (32+25j), 1, 3, 5, 8}"
            ]
          },
          "metadata": {
            "tags": []
          },
          "execution_count": 177
        }
      ]
    },
    {
      "cell_type": "code",
      "metadata": {
        "id": "NcVelmOV2RU4",
        "colab_type": "code",
        "outputId": "f14f118c-3b89-49b1-f108-e94c69dee06a",
        "colab": {
          "base_uri": "https://localhost:8080/",
          "height": 34
        }
      },
      "source": [
        "j = set([1,5,8,2,1,5,True,(5-6j),5,2,1,8,(5-6j),True,False,7,'Learn','learn',False]) #removes duplicates\n",
        "j"
      ],
      "execution_count": 178,
      "outputs": [
        {
          "output_type": "execute_result",
          "data": {
            "text/plain": [
              "{(5-6j), 1, 2, 5, 7, 8, False, 'Learn', 'learn'}"
            ]
          },
          "metadata": {
            "tags": []
          },
          "execution_count": 178
        }
      ]
    },
    {
      "cell_type": "code",
      "metadata": {
        "id": "fWVTlQLg2t4O",
        "colab_type": "code",
        "outputId": "1b0601d7-fce8-4761-8bb4-1b31793bb9af",
        "colab": {
          "base_uri": "https://localhost:8080/",
          "height": 34
        }
      },
      "source": [
        "j.add((5,9,15,10,3))\n",
        "j"
      ],
      "execution_count": 179,
      "outputs": [
        {
          "output_type": "execute_result",
          "data": {
            "text/plain": [
              "{(5, 9, 15, 10, 3), (5-6j), 1, 2, 5, 7, 8, False, 'Learn', 'learn'}"
            ]
          },
          "metadata": {
            "tags": []
          },
          "execution_count": 179
        }
      ]
    },
    {
      "cell_type": "code",
      "metadata": {
        "id": "o6VPKDbg38r9",
        "colab_type": "code",
        "outputId": "4e96b3ef-9386-4307-cbd1-89295a8824af",
        "colab": {
          "base_uri": "https://localhost:8080/",
          "height": 34
        }
      },
      "source": [
        "j.add('skills')\n",
        "j"
      ],
      "execution_count": 180,
      "outputs": [
        {
          "output_type": "execute_result",
          "data": {
            "text/plain": [
              "{(5, 9, 15, 10, 3), (5-6j), 1, 2, 5, 7, 8, False, 'Learn', 'learn', 'skills'}"
            ]
          },
          "metadata": {
            "tags": []
          },
          "execution_count": 180
        }
      ]
    },
    {
      "cell_type": "code",
      "metadata": {
        "id": "6uv9ZJWv4aJM",
        "colab_type": "code",
        "outputId": "03f1afce-3558-462c-d735-4fabd8ed4c83",
        "colab": {
          "base_uri": "https://localhost:8080/",
          "height": 204
        }
      },
      "source": [
        "for i in j:\n",
        "    print(i)"
      ],
      "execution_count": 181,
      "outputs": [
        {
          "output_type": "stream",
          "text": [
            "False\n",
            "1\n",
            "2\n",
            "Learn\n",
            "learn\n",
            "5\n",
            "7\n",
            "8\n",
            "skills\n",
            "(5-6j)\n",
            "(5, 9, 15, 10, 3)\n"
          ],
          "name": "stdout"
        }
      ]
    },
    {
      "cell_type": "code",
      "metadata": {
        "id": "wGDY9Ehu4iET",
        "colab_type": "code",
        "outputId": "faa1beec-d3de-4242-ebaa-661404ebcf8e",
        "colab": {
          "base_uri": "https://localhost:8080/",
          "height": 34
        }
      },
      "source": [
        "j.update()\n",
        "j"
      ],
      "execution_count": 182,
      "outputs": [
        {
          "output_type": "execute_result",
          "data": {
            "text/plain": [
              "{(5, 9, 15, 10, 3), (5-6j), 1, 2, 5, 7, 8, False, 'Learn', 'learn', 'skills'}"
            ]
          },
          "metadata": {
            "tags": []
          },
          "execution_count": 182
        }
      ]
    },
    {
      "cell_type": "markdown",
      "metadata": {
        "id": "1NeGXvo25eaN",
        "colab_type": "text"
      },
      "source": [
        "# **Dictionaries**"
      ]
    },
    {
      "cell_type": "code",
      "metadata": {
        "id": "h68JDmZs6L8o",
        "colab_type": "code",
        "colab": {
          "base_uri": "https://localhost:8080/",
          "height": 34
        },
        "outputId": "f582fc10-e32a-4728-83a0-4c9f29fadbfb"
      },
      "source": [
        "dic = {}\n",
        "type(dic)"
      ],
      "execution_count": 183,
      "outputs": [
        {
          "output_type": "execute_result",
          "data": {
            "text/plain": [
              "dict"
            ]
          },
          "metadata": {
            "tags": []
          },
          "execution_count": 183
        }
      ]
    },
    {
      "cell_type": "code",
      "metadata": {
        "id": "XjX_PgHMowWc",
        "colab_type": "code",
        "colab": {
          "base_uri": "https://localhost:8080/",
          "height": 34
        },
        "outputId": "769a465a-9749-4db3-c8ab-81eddc527e77"
      },
      "source": [
        "st = {5}\n",
        "type(st)"
      ],
      "execution_count": 184,
      "outputs": [
        {
          "output_type": "execute_result",
          "data": {
            "text/plain": [
              "set"
            ]
          },
          "metadata": {
            "tags": []
          },
          "execution_count": 184
        }
      ]
    },
    {
      "cell_type": "code",
      "metadata": {
        "id": "rIOiSBSuo3-F",
        "colab_type": "code",
        "colab": {}
      },
      "source": [
        "dic1 = {'k1':'chocolate','k2':(1,5,(4,9),3),'k3':[8,2,10]}     # format--->{'key':value} ; item = (key,value)"
      ],
      "execution_count": 0,
      "outputs": []
    },
    {
      "cell_type": "code",
      "metadata": {
        "id": "XMLODiLApRxu",
        "colab_type": "code",
        "colab": {}
      },
      "source": [
        "#dic1[0]                  indexing is not done is this way in dictionary"
      ],
      "execution_count": 0,
      "outputs": []
    },
    {
      "cell_type": "code",
      "metadata": {
        "id": "EqRSWHN1pUnA",
        "colab_type": "code",
        "colab": {
          "base_uri": "https://localhost:8080/",
          "height": 34
        },
        "outputId": "2bc36310-bdf1-4d83-e174-3537a3ae3ed3"
      },
      "source": [
        "dic1['k1']"
      ],
      "execution_count": 187,
      "outputs": [
        {
          "output_type": "execute_result",
          "data": {
            "text/plain": [
              "'chocolate'"
            ]
          },
          "metadata": {
            "tags": []
          },
          "execution_count": 187
        }
      ]
    },
    {
      "cell_type": "code",
      "metadata": {
        "id": "gT5ONhStpnux",
        "colab_type": "code",
        "colab": {
          "base_uri": "https://localhost:8080/",
          "height": 34
        },
        "outputId": "07e7a4dc-3074-4395-a4cb-319169d6440e"
      },
      "source": [
        "dic1['k2']"
      ],
      "execution_count": 188,
      "outputs": [
        {
          "output_type": "execute_result",
          "data": {
            "text/plain": [
              "(1, 5, (4, 9), 3)"
            ]
          },
          "metadata": {
            "tags": []
          },
          "execution_count": 188
        }
      ]
    },
    {
      "cell_type": "code",
      "metadata": {
        "id": "9qKTnUTkpr_J",
        "colab_type": "code",
        "colab": {
          "base_uri": "https://localhost:8080/",
          "height": 34
        },
        "outputId": "9cca13ca-eb72-47dd-9379-527d7fd5e25f"
      },
      "source": [
        "dic1['k2'][-2]"
      ],
      "execution_count": 189,
      "outputs": [
        {
          "output_type": "execute_result",
          "data": {
            "text/plain": [
              "(4, 9)"
            ]
          },
          "metadata": {
            "tags": []
          },
          "execution_count": 189
        }
      ]
    },
    {
      "cell_type": "code",
      "metadata": {
        "id": "DQ-pgL8Jqr8X",
        "colab_type": "code",
        "colab": {}
      },
      "source": [
        "dic2 = {'name':'student','$&':[5,8,2,4,9],'name':'rox','batch':{1,8,3,2}}"
      ],
      "execution_count": 0,
      "outputs": []
    },
    {
      "cell_type": "code",
      "metadata": {
        "id": "rcYqeZHUr2X8",
        "colab_type": "code",
        "colab": {
          "base_uri": "https://localhost:8080/",
          "height": 34
        },
        "outputId": "5ad586b6-297c-42d6-91ca-74a8e1d46ac8"
      },
      "source": [
        "dic2                        # dictionary provides the updated value"
      ],
      "execution_count": 191,
      "outputs": [
        {
          "output_type": "execute_result",
          "data": {
            "text/plain": [
              "{'$&': [5, 8, 2, 4, 9], 'batch': {1, 2, 3, 8}, 'name': 'rox'}"
            ]
          },
          "metadata": {
            "tags": []
          },
          "execution_count": 191
        }
      ]
    },
    {
      "cell_type": "code",
      "metadata": {
        "id": "q4h-6DngpxCA",
        "colab_type": "code",
        "colab": {
          "base_uri": "https://localhost:8080/",
          "height": 34
        },
        "outputId": "a45cb21b-9115-44cf-ce54-b0f616c0963a"
      },
      "source": [
        "dic2.keys()"
      ],
      "execution_count": 192,
      "outputs": [
        {
          "output_type": "execute_result",
          "data": {
            "text/plain": [
              "dict_keys(['name', '$&', 'batch'])"
            ]
          },
          "metadata": {
            "tags": []
          },
          "execution_count": 192
        }
      ]
    },
    {
      "cell_type": "code",
      "metadata": {
        "id": "EoU6NP8RqTWQ",
        "colab_type": "code",
        "colab": {
          "base_uri": "https://localhost:8080/",
          "height": 68
        },
        "outputId": "d2f76ad7-b746-4ac0-a232-6691c3cd4e32"
      },
      "source": [
        "for i in dic2.keys():\n",
        "    print(i)"
      ],
      "execution_count": 193,
      "outputs": [
        {
          "output_type": "stream",
          "text": [
            "name\n",
            "$&\n",
            "batch\n"
          ],
          "name": "stdout"
        }
      ]
    },
    {
      "cell_type": "code",
      "metadata": {
        "id": "acBszYHCuLOT",
        "colab_type": "code",
        "colab": {
          "base_uri": "https://localhost:8080/",
          "height": 68
        },
        "outputId": "046a78ed-99ea-4dab-fe5d-56e967c9eb6b"
      },
      "source": [
        "for i in dic2.keys():\n",
        "    print(dic2[i])"
      ],
      "execution_count": 194,
      "outputs": [
        {
          "output_type": "stream",
          "text": [
            "rox\n",
            "[5, 8, 2, 4, 9]\n",
            "{8, 1, 2, 3}\n"
          ],
          "name": "stdout"
        }
      ]
    },
    {
      "cell_type": "code",
      "metadata": {
        "id": "t7DFJ3MAqc6c",
        "colab_type": "code",
        "colab": {
          "base_uri": "https://localhost:8080/",
          "height": 34
        },
        "outputId": "a01a1944-5ba1-428d-ffa7-4e45e218587a"
      },
      "source": [
        "dic2.values()"
      ],
      "execution_count": 195,
      "outputs": [
        {
          "output_type": "execute_result",
          "data": {
            "text/plain": [
              "dict_values(['rox', [5, 8, 2, 4, 9], {8, 1, 2, 3}])"
            ]
          },
          "metadata": {
            "tags": []
          },
          "execution_count": 195
        }
      ]
    },
    {
      "cell_type": "code",
      "metadata": {
        "id": "Fhcll2Z7qo3k",
        "colab_type": "code",
        "colab": {
          "base_uri": "https://localhost:8080/",
          "height": 68
        },
        "outputId": "92382f4a-0077-4032-b772-b003f16c7d1b"
      },
      "source": [
        "for i in dic2.values():\n",
        "    print(i)"
      ],
      "execution_count": 196,
      "outputs": [
        {
          "output_type": "stream",
          "text": [
            "rox\n",
            "[5, 8, 2, 4, 9]\n",
            "{8, 1, 2, 3}\n"
          ],
          "name": "stdout"
        }
      ]
    },
    {
      "cell_type": "code",
      "metadata": {
        "id": "Poz8i0NysSpf",
        "colab_type": "code",
        "colab": {
          "base_uri": "https://localhost:8080/",
          "height": 34
        },
        "outputId": "54b264c3-a60c-4ce8-e4e4-8685e50dcea1"
      },
      "source": [
        "dic2.items()"
      ],
      "execution_count": 197,
      "outputs": [
        {
          "output_type": "execute_result",
          "data": {
            "text/plain": [
              "dict_items([('name', 'rox'), ('$&', [5, 8, 2, 4, 9]), ('batch', {8, 1, 2, 3})])"
            ]
          },
          "metadata": {
            "tags": []
          },
          "execution_count": 197
        }
      ]
    },
    {
      "cell_type": "code",
      "metadata": {
        "id": "e8_5k8IisYHE",
        "colab_type": "code",
        "colab": {
          "base_uri": "https://localhost:8080/",
          "height": 68
        },
        "outputId": "3481a2b6-e052-4317-ba09-a728dfa17b1b"
      },
      "source": [
        "for i in dic2.items():\n",
        "    print(i)"
      ],
      "execution_count": 198,
      "outputs": [
        {
          "output_type": "stream",
          "text": [
            "('name', 'rox')\n",
            "('$&', [5, 8, 2, 4, 9])\n",
            "('batch', {8, 1, 2, 3})\n"
          ],
          "name": "stdout"
        }
      ]
    },
    {
      "cell_type": "code",
      "metadata": {
        "id": "HFSoLK7SsdH4",
        "colab_type": "code",
        "colab": {
          "base_uri": "https://localhost:8080/",
          "height": 34
        },
        "outputId": "8a4f33cc-a14a-4047-cd8d-997a975571c0"
      },
      "source": [
        "dic3 = {'p':'raga','q':'Raga','r':'RAGA'}\n",
        "d = {}\n",
        "for i in dic3:\n",
        "    d[i] = i.isupper()\n",
        "d"
      ],
      "execution_count": 199,
      "outputs": [
        {
          "output_type": "execute_result",
          "data": {
            "text/plain": [
              "{'p': False, 'q': False, 'r': False}"
            ]
          },
          "metadata": {
            "tags": []
          },
          "execution_count": 199
        }
      ]
    },
    {
      "cell_type": "code",
      "metadata": {
        "id": "qFDZjxwmtp66",
        "colab_type": "code",
        "colab": {
          "base_uri": "https://localhost:8080/",
          "height": 34
        },
        "outputId": "45797d53-3208-441f-9f2a-608b87c2a429"
      },
      "source": [
        "st = {'raga','Raga','RAGA'}\n",
        "d = {}\n",
        "for i in st:\n",
        "    d[i] = i.isupper()\n",
        "d"
      ],
      "execution_count": 200,
      "outputs": [
        {
          "output_type": "execute_result",
          "data": {
            "text/plain": [
              "{'RAGA': True, 'Raga': False, 'raga': False}"
            ]
          },
          "metadata": {
            "tags": []
          },
          "execution_count": 200
        }
      ]
    },
    {
      "cell_type": "code",
      "metadata": {
        "id": "p5xqGBB7wQqm",
        "colab_type": "code",
        "colab": {
          "base_uri": "https://localhost:8080/",
          "height": 34
        },
        "outputId": "cd4471db-8440-415f-d653-adc73a0e9488"
      },
      "source": [
        "lt = ['raga','Raga','RAGA']\n",
        "d = {}\n",
        "for i in lt:\n",
        "    d[i] = i.isupper()\n",
        "d"
      ],
      "execution_count": 201,
      "outputs": [
        {
          "output_type": "execute_result",
          "data": {
            "text/plain": [
              "{'RAGA': True, 'Raga': False, 'raga': False}"
            ]
          },
          "metadata": {
            "tags": []
          },
          "execution_count": 201
        }
      ]
    },
    {
      "cell_type": "code",
      "metadata": {
        "id": "iLP4fgGPw4tr",
        "colab_type": "code",
        "colab": {
          "base_uri": "https://localhost:8080/",
          "height": 34
        },
        "outputId": "3c874837-47ef-429d-ec9c-a3e3547e8d7a"
      },
      "source": [
        "d = {}\n",
        "for i in lt:\n",
        "    d[i] = i.upper()\n",
        "d"
      ],
      "execution_count": 202,
      "outputs": [
        {
          "output_type": "execute_result",
          "data": {
            "text/plain": [
              "{'RAGA': 'RAGA', 'Raga': 'RAGA', 'raga': 'RAGA'}"
            ]
          },
          "metadata": {
            "tags": []
          },
          "execution_count": 202
        }
      ]
    },
    {
      "cell_type": "code",
      "metadata": {
        "id": "m1Vabk48xYVc",
        "colab_type": "code",
        "colab": {}
      },
      "source": [
        "dic4 = {'d1':{'dd1':'opera'},'d2':'charge'}"
      ],
      "execution_count": 0,
      "outputs": []
    },
    {
      "cell_type": "code",
      "metadata": {
        "id": "kbGIwZftzU02",
        "colab_type": "code",
        "colab": {
          "base_uri": "https://localhost:8080/",
          "height": 34
        },
        "outputId": "bc9119bc-1cb8-4140-ab77-2b5c26f49a54"
      },
      "source": [
        "dic4['d3'] = [4,5,8,(6-2j),{5,71,0}]\n",
        "dic4"
      ],
      "execution_count": 204,
      "outputs": [
        {
          "output_type": "execute_result",
          "data": {
            "text/plain": [
              "{'d1': {'dd1': 'opera'}, 'd2': 'charge', 'd3': [4, 5, 8, (6-2j), {0, 5, 71}]}"
            ]
          },
          "metadata": {
            "tags": []
          },
          "execution_count": 204
        }
      ]
    },
    {
      "cell_type": "code",
      "metadata": {
        "id": "xU5pL00pzfgL",
        "colab_type": "code",
        "colab": {
          "base_uri": "https://localhost:8080/",
          "height": 34
        },
        "outputId": "b3e09a0c-1455-40c1-dfe5-6d69275250e5"
      },
      "source": [
        "dic4['d2'] = 'andriod'  #values can be changed or updated(mutable object concept)\n",
        "dic4"
      ],
      "execution_count": 205,
      "outputs": [
        {
          "output_type": "execute_result",
          "data": {
            "text/plain": [
              "{'d1': {'dd1': 'opera'}, 'd2': 'andriod', 'd3': [4, 5, 8, (6-2j), {0, 5, 71}]}"
            ]
          },
          "metadata": {
            "tags": []
          },
          "execution_count": 205
        }
      ]
    },
    {
      "cell_type": "code",
      "metadata": {
        "id": "TmPDoobxz5aO",
        "colab_type": "code",
        "colab": {
          "base_uri": "https://localhost:8080/",
          "height": 34
        },
        "outputId": "dc1ccf3f-893e-4214-cb72-c04e4bbe8414"
      },
      "source": [
        "dic4.pop('d2')"
      ],
      "execution_count": 206,
      "outputs": [
        {
          "output_type": "execute_result",
          "data": {
            "text/plain": [
              "'andriod'"
            ]
          },
          "metadata": {
            "tags": []
          },
          "execution_count": 206
        }
      ]
    },
    {
      "cell_type": "code",
      "metadata": {
        "id": "jv0lm_ig0Mfm",
        "colab_type": "code",
        "colab": {
          "base_uri": "https://localhost:8080/",
          "height": 34
        },
        "outputId": "ccc12eae-e221-47b0-cb64-d26390010586"
      },
      "source": [
        "dic4"
      ],
      "execution_count": 207,
      "outputs": [
        {
          "output_type": "execute_result",
          "data": {
            "text/plain": [
              "{'d1': {'dd1': 'opera'}, 'd3': [4, 5, 8, (6-2j), {0, 5, 71}]}"
            ]
          },
          "metadata": {
            "tags": []
          },
          "execution_count": 207
        }
      ]
    },
    {
      "cell_type": "code",
      "metadata": {
        "id": "FcHlkvI33S1_",
        "colab_type": "code",
        "colab": {
          "base_uri": "https://localhost:8080/",
          "height": 34
        },
        "outputId": "ba2d6500-b7f3-4dd6-94c2-e931ed60de3f"
      },
      "source": [
        "dic4.clear()\n",
        "dic4"
      ],
      "execution_count": 208,
      "outputs": [
        {
          "output_type": "execute_result",
          "data": {
            "text/plain": [
              "{}"
            ]
          },
          "metadata": {
            "tags": []
          },
          "execution_count": 208
        }
      ]
    },
    {
      "cell_type": "markdown",
      "metadata": {
        "id": "hAe6iq611dfQ",
        "colab_type": "text"
      },
      "source": [
        "**Dictionary comprehension**"
      ]
    },
    {
      "cell_type": "code",
      "metadata": {
        "id": "tjGH0Q0-1RPA",
        "colab_type": "code",
        "colab": {
          "base_uri": "https://localhost:8080/",
          "height": 34
        },
        "outputId": "6cade980-1fa0-4dc9-81d7-20af5ab0d852"
      },
      "source": [
        "{i:i**2 for i in range(10)}"
      ],
      "execution_count": 209,
      "outputs": [
        {
          "output_type": "execute_result",
          "data": {
            "text/plain": [
              "{0: 0, 1: 1, 2: 4, 3: 9, 4: 16, 5: 25, 6: 36, 7: 49, 8: 64, 9: 81}"
            ]
          },
          "metadata": {
            "tags": []
          },
          "execution_count": 209
        }
      ]
    },
    {
      "cell_type": "code",
      "metadata": {
        "id": "I7mKb0DZ2THp",
        "colab_type": "code",
        "colab": {
          "base_uri": "https://localhost:8080/",
          "height": 34
        },
        "outputId": "22e371a9-f91f-4558-ea83-55a5ac1b2059"
      },
      "source": [
        "{i:i**3 for i in range(12) if i%2 == 0}"
      ],
      "execution_count": 210,
      "outputs": [
        {
          "output_type": "execute_result",
          "data": {
            "text/plain": [
              "{0: 0, 2: 8, 4: 64, 6: 216, 8: 512, 10: 1000}"
            ]
          },
          "metadata": {
            "tags": []
          },
          "execution_count": 210
        }
      ]
    }
  ]
}
