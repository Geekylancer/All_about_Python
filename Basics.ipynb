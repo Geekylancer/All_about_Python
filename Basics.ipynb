{
  "nbformat": 4,
  "nbformat_minor": 0,
  "metadata": {
    "kernelspec": {
      "language": "python",
      "display_name": "Python 3",
      "name": "python3"
    },
    "language_info": {
      "pygments_lexer": "ipython3",
      "nbconvert_exporter": "python",
      "version": "3.6.4",
      "file_extension": ".py",
      "codemirror_mode": {
        "name": "ipython",
        "version": 3
      },
      "name": "python",
      "mimetype": "text/x-python"
    },
    "colab": {
      "name": "Basics.ipynb",
      "provenance": []
    }
  },
  "cells": [
    {
      "cell_type": "markdown",
      "metadata": {
        "id": "DFiIvM5oGqhT",
        "colab_type": "text"
      },
      "source": [
        "# BASICS OF PYTHON"
      ]
    },
    {
      "cell_type": "markdown",
      "metadata": {
        "id": "2-1mdssBGqhU",
        "colab_type": "text"
      },
      "source": [
        "**Fundamentals**"
      ]
    },
    {
      "cell_type": "markdown",
      "metadata": {
        "id": "XDuzBXYaGqhV",
        "colab_type": "text"
      },
      "source": [
        "integers \n",
        "\n",
        "\n"
      ]
    },
    {
      "cell_type": "code",
      "metadata": {
        "_uuid": "d629ff2d2480ee46fbb7e2d37f6b5fab8052498a",
        "_cell_guid": "79c7e3d0-c299-4dcb-8224-4455121ee9b0",
        "trusted": true,
        "id": "dvebzvYyGqhW",
        "colab_type": "code",
        "outputId": "0ed35b16-0c33-4c06-a82f-311fda3a6126",
        "colab": {
          "base_uri": "https://localhost:8080/",
          "height": 34
        }
      },
      "source": [
        "a = 12\n",
        "type(a)"
      ],
      "execution_count": 32,
      "outputs": [
        {
          "output_type": "execute_result",
          "data": {
            "text/plain": [
              "int"
            ]
          },
          "metadata": {
            "tags": []
          },
          "execution_count": 32
        }
      ]
    },
    {
      "cell_type": "code",
      "metadata": {
        "trusted": true,
        "id": "wyNuxXAVGqhb",
        "colab_type": "code",
        "outputId": "800e80d6-f928-4324-a65f-8a35333a1b0a",
        "colab": {
          "base_uri": "https://localhost:8080/",
          "height": 34
        }
      },
      "source": [
        "id(a)"
      ],
      "execution_count": 33,
      "outputs": [
        {
          "output_type": "execute_result",
          "data": {
            "text/plain": [
              "10914848"
            ]
          },
          "metadata": {
            "tags": []
          },
          "execution_count": 33
        }
      ]
    },
    {
      "cell_type": "markdown",
      "metadata": {
        "id": "ZtZLDs79Gqhe",
        "colab_type": "text"
      },
      "source": [
        "variables"
      ]
    },
    {
      "cell_type": "code",
      "metadata": {
        "trusted": true,
        "id": "2MZMvXJpGqhf",
        "colab_type": "code",
        "outputId": "986dd7a5-f7f5-4fc0-abd0-1ffc48b35731",
        "colab": {
          "base_uri": "https://localhost:8080/",
          "height": 34
        }
      },
      "source": [
        "a = 52\n",
        "a = 'dsfsf'\n",
        "print(a)"
      ],
      "execution_count": 34,
      "outputs": [
        {
          "output_type": "stream",
          "text": [
            "dsfsf\n"
          ],
          "name": "stdout"
        }
      ]
    },
    {
      "cell_type": "code",
      "metadata": {
        "trusted": true,
        "id": "eagphRQjGqhk",
        "colab_type": "code",
        "outputId": "0c598d29-348b-4e38-e524-3204dd6ecb26",
        "colab": {
          "base_uri": "https://localhost:8080/",
          "height": 34
        }
      },
      "source": [
        "type(a)             #prints the updated value"
      ],
      "execution_count": 35,
      "outputs": [
        {
          "output_type": "execute_result",
          "data": {
            "text/plain": [
              "str"
            ]
          },
          "metadata": {
            "tags": []
          },
          "execution_count": 35
        }
      ]
    },
    {
      "cell_type": "markdown",
      "metadata": {
        "id": "yDnPzCJMGqhn",
        "colab_type": "text"
      },
      "source": [
        "strings"
      ]
    },
    {
      "cell_type": "code",
      "metadata": {
        "trusted": true,
        "id": "950G-Bs8Gqhn",
        "colab_type": "code",
        "outputId": "e81d8bbc-7d53-43c2-d451-e69855f849fc",
        "colab": {
          "base_uri": "https://localhost:8080/",
          "height": 51
        }
      },
      "source": [
        "x = 'learning python'\n",
        "print(type(x))\n",
        "print(len(x))               # space is included in the len() function"
      ],
      "execution_count": 36,
      "outputs": [
        {
          "output_type": "stream",
          "text": [
            "<class 'str'>\n",
            "15\n"
          ],
          "name": "stdout"
        }
      ]
    },
    {
      "cell_type": "markdown",
      "metadata": {
        "id": "qoJg_kAfGqhr",
        "colab_type": "text"
      },
      "source": [
        "floats"
      ]
    },
    {
      "cell_type": "code",
      "metadata": {
        "trusted": true,
        "id": "zN1LGY68Gqhr",
        "colab_type": "code",
        "outputId": "7b814f10-02ad-4794-b7d0-8a4733b6c624",
        "colab": {
          "base_uri": "https://localhost:8080/",
          "height": 34
        }
      },
      "source": [
        "z = 10.25\n",
        "type(z)"
      ],
      "execution_count": 37,
      "outputs": [
        {
          "output_type": "execute_result",
          "data": {
            "text/plain": [
              "float"
            ]
          },
          "metadata": {
            "tags": []
          },
          "execution_count": 37
        }
      ]
    },
    {
      "cell_type": "code",
      "metadata": {
        "trusted": true,
        "id": "wUW1VYwsGqhv",
        "colab_type": "code",
        "outputId": "15e2d229-f68d-4f2d-be0d-488c60066d50",
        "colab": {
          "base_uri": "https://localhost:8080/",
          "height": 34
        }
      },
      "source": [
        "print('The data stored in z is a floating point datatype:',z)"
      ],
      "execution_count": 38,
      "outputs": [
        {
          "output_type": "stream",
          "text": [
            "The data stored in z is a floating point datatype: 10.25\n"
          ],
          "name": "stdout"
        }
      ]
    },
    {
      "cell_type": "markdown",
      "metadata": {
        "id": "IGoLG1C5Gqhy",
        "colab_type": "text"
      },
      "source": [
        "complex"
      ]
    },
    {
      "cell_type": "code",
      "metadata": {
        "trusted": true,
        "id": "x-jLdzvBGqhy",
        "colab_type": "code",
        "outputId": "3a86bd42-9d91-4457-fdd3-c070bcfca658",
        "colab": {
          "base_uri": "https://localhost:8080/",
          "height": 51
        }
      },
      "source": [
        "comp = 2-4j\n",
        "print(comp.real)\n",
        "print(comp.imag)"
      ],
      "execution_count": 39,
      "outputs": [
        {
          "output_type": "stream",
          "text": [
            "2.0\n",
            "-4.0\n"
          ],
          "name": "stdout"
        }
      ]
    },
    {
      "cell_type": "code",
      "metadata": {
        "trusted": true,
        "id": "1byvV4zEGqh1",
        "colab_type": "code",
        "outputId": "be4610a6-5b89-4e7c-af94-1aabe057550b",
        "colab": {
          "base_uri": "https://localhost:8080/",
          "height": 34
        }
      },
      "source": [
        "type(comp)"
      ],
      "execution_count": 40,
      "outputs": [
        {
          "output_type": "execute_result",
          "data": {
            "text/plain": [
              "complex"
            ]
          },
          "metadata": {
            "tags": []
          },
          "execution_count": 40
        }
      ]
    },
    {
      "cell_type": "code",
      "metadata": {
        "trusted": true,
        "id": "253E3q-KGqh4",
        "colab_type": "code",
        "outputId": "7ed42cf7-5cb5-4d9e-db98-dd37c6ac1fc1",
        "colab": {
          "base_uri": "https://localhost:8080/",
          "height": 34
        }
      },
      "source": [
        "print(int(comp.real))        #typecasting---->here changing floating point to integer"
      ],
      "execution_count": 41,
      "outputs": [
        {
          "output_type": "stream",
          "text": [
            "2\n"
          ],
          "name": "stdout"
        }
      ]
    },
    {
      "cell_type": "markdown",
      "metadata": {
        "id": "hWo9aG3nGqh7",
        "colab_type": "text"
      },
      "source": [
        "boolean ad logical operators"
      ]
    },
    {
      "cell_type": "code",
      "metadata": {
        "trusted": true,
        "id": "oEep5QGHGqh8",
        "colab_type": "code",
        "colab": {}
      },
      "source": [
        "l = True"
      ],
      "execution_count": 0,
      "outputs": []
    },
    {
      "cell_type": "code",
      "metadata": {
        "trusted": true,
        "id": "GWAO1lJTGqh_",
        "colab_type": "code",
        "outputId": "ffb2e048-0315-4be1-8cb5-7f366ffbe0a4",
        "colab": {
          "base_uri": "https://localhost:8080/",
          "height": 34
        }
      },
      "source": [
        "type(l)"
      ],
      "execution_count": 43,
      "outputs": [
        {
          "output_type": "execute_result",
          "data": {
            "text/plain": [
              "bool"
            ]
          },
          "metadata": {
            "tags": []
          },
          "execution_count": 43
        }
      ]
    },
    {
      "cell_type": "code",
      "metadata": {
        "trusted": true,
        "id": "v1iZ1z0PGqiD",
        "colab_type": "code",
        "outputId": "ef9a3af8-8d2c-4ebb-a233-5d9f627475f9",
        "colab": {
          "base_uri": "https://localhost:8080/",
          "height": 136
        }
      },
      "source": [
        "print(True and False)\n",
        "print(False or True)\n",
        "print(True and True)\n",
        "print(True and (False or True))\n",
        "print(0 or (1 and 0))\n",
        "print(not True)\n",
        "print('a' is 'a')"
      ],
      "execution_count": 44,
      "outputs": [
        {
          "output_type": "stream",
          "text": [
            "False\n",
            "True\n",
            "True\n",
            "True\n",
            "0\n",
            "False\n",
            "True\n"
          ],
          "name": "stdout"
        }
      ]
    },
    {
      "cell_type": "markdown",
      "metadata": {
        "id": "v0NaG9mDGqiG",
        "colab_type": "text"
      },
      "source": [
        "concatenation"
      ]
    },
    {
      "cell_type": "code",
      "metadata": {
        "trusted": true,
        "id": "7xqE7jQIGqiH",
        "colab_type": "code",
        "outputId": "d6995a29-b0ec-49c1-f404-5a3318a0c9c3",
        "colab": {
          "base_uri": "https://localhost:8080/",
          "height": 34
        }
      },
      "source": [
        "print('Apply all sorts of' + ' permutation and combination' + ' to see the other side of your code.')"
      ],
      "execution_count": 45,
      "outputs": [
        {
          "output_type": "stream",
          "text": [
            "Apply all sorts of permutation and combination to see the other side of your code.\n"
          ],
          "name": "stdout"
        }
      ]
    },
    {
      "cell_type": "markdown",
      "metadata": {
        "id": "jNqzJj_sGqiJ",
        "colab_type": "text"
      },
      "source": [
        "points to remember"
      ]
    },
    {
      "cell_type": "code",
      "metadata": {
        "trusted": true,
        "id": "HYLDCOE7GqiK",
        "colab_type": "code",
        "outputId": "9bc5e274-3815-4b68-cc68-3ad49543b159",
        "colab": {
          "base_uri": "https://localhost:8080/",
          "height": 51
        }
      },
      "source": [
        "input('Enter something: ')"
      ],
      "execution_count": 46,
      "outputs": [
        {
          "output_type": "stream",
          "text": [
            "Enter something: batman\n"
          ],
          "name": "stdout"
        },
        {
          "output_type": "execute_result",
          "data": {
            "text/plain": [
              "'batman'"
            ]
          },
          "metadata": {
            "tags": []
          },
          "execution_count": 46
        }
      ]
    },
    {
      "cell_type": "code",
      "metadata": {
        "trusted": true,
        "id": "GvrNDUqGGqiN",
        "colab_type": "code",
        "outputId": "c7510c17-8fc0-4a38-f431-4f13e191d903",
        "colab": {
          "base_uri": "https://localhost:8080/",
          "height": 51
        }
      },
      "source": [
        "type(input())"
      ],
      "execution_count": 47,
      "outputs": [
        {
          "output_type": "stream",
          "text": [
            "batman\n"
          ],
          "name": "stdout"
        },
        {
          "output_type": "execute_result",
          "data": {
            "text/plain": [
              "str"
            ]
          },
          "metadata": {
            "tags": []
          },
          "execution_count": 47
        }
      ]
    },
    {
      "cell_type": "markdown",
      "metadata": {
        "id": "2SmLdtRVGqiQ",
        "colab_type": "text"
      },
      "source": [
        "printing using format()"
      ]
    },
    {
      "cell_type": "code",
      "metadata": {
        "trusted": true,
        "id": "bE8uXGhVGqiR",
        "colab_type": "code",
        "outputId": "9e78f04c-da8e-41d0-f14d-315baf5bf3dc",
        "colab": {
          "base_uri": "https://localhost:8080/",
          "height": 68
        }
      },
      "source": [
        "first_name = input('Enter your first name: ')\n",
        "last_name = input('Enter your second name: ')\n",
        "\n",
        "print('Hello World!!' + ' I am {} {}'.format(first_name,last_name))"
      ],
      "execution_count": 48,
      "outputs": [
        {
          "output_type": "stream",
          "text": [
            "Enter your first name: geeky\n",
            "Enter your second name: lancer\n",
            "Hello World!! I am geeky lancer\n"
          ],
          "name": "stdout"
        }
      ]
    },
    {
      "cell_type": "markdown",
      "metadata": {
        "id": "t2oDhouWGqiU",
        "colab_type": "text"
      },
      "source": [
        "branching"
      ]
    },
    {
      "cell_type": "code",
      "metadata": {
        "trusted": true,
        "id": "eiNV9mH7GqiU",
        "colab_type": "code",
        "outputId": "a4045c89-2b01-4478-ea6f-fa8c40561e3a",
        "colab": {
          "base_uri": "https://localhost:8080/",
          "height": 34
        }
      },
      "source": [
        "a = 95\n",
        "b = 81\n",
        "p = a-b\n",
        "if p <= 15:\n",
        "    if p == 4:\n",
        "        print('R')\n",
        "    elif p > 12:\n",
        "        print('A')\n",
        "    else:\n",
        "        print('O')"
      ],
      "execution_count": 49,
      "outputs": [
        {
          "output_type": "stream",
          "text": [
            "A\n"
          ],
          "name": "stdout"
        }
      ]
    },
    {
      "cell_type": "markdown",
      "metadata": {
        "id": "_RSqVNVzGqiX",
        "colab_type": "text"
      },
      "source": [
        "points to remember"
      ]
    },
    {
      "cell_type": "code",
      "metadata": {
        "trusted": true,
        "id": "7azxH8D2GqiX",
        "colab_type": "code",
        "outputId": "cf837324-52c2-4f37-b5f2-7b8c6a8e96d4",
        "colab": {
          "base_uri": "https://localhost:8080/",
          "height": 34
        }
      },
      "source": [
        "range(6)      # 0 is lower bound and 6 is upper bound"
      ],
      "execution_count": 50,
      "outputs": [
        {
          "output_type": "execute_result",
          "data": {
            "text/plain": [
              "range(0, 6)"
            ]
          },
          "metadata": {
            "tags": []
          },
          "execution_count": 50
        }
      ]
    },
    {
      "cell_type": "code",
      "metadata": {
        "trusted": true,
        "id": "250iCl5uGqia",
        "colab_type": "code",
        "outputId": "cfc9bbec-075e-4367-d5f1-f1bbf94448c3",
        "colab": {
          "base_uri": "https://localhost:8080/",
          "height": 34
        }
      },
      "source": [
        "print(range(6))"
      ],
      "execution_count": 51,
      "outputs": [
        {
          "output_type": "stream",
          "text": [
            "range(0, 6)\n"
          ],
          "name": "stdout"
        }
      ]
    },
    {
      "cell_type": "code",
      "metadata": {
        "trusted": true,
        "id": "gwKnjdyMGqid",
        "colab_type": "code",
        "outputId": "09040048-631f-4046-b0db-d97f682a579a",
        "colab": {
          "base_uri": "https://localhost:8080/",
          "height": 34
        }
      },
      "source": [
        "type(range(6))"
      ],
      "execution_count": 52,
      "outputs": [
        {
          "output_type": "execute_result",
          "data": {
            "text/plain": [
              "range"
            ]
          },
          "metadata": {
            "tags": []
          },
          "execution_count": 52
        }
      ]
    },
    {
      "cell_type": "code",
      "metadata": {
        "trusted": true,
        "id": "yu_q70YLGqif",
        "colab_type": "code",
        "outputId": "506c3d07-8cfe-419c-d038-2c45b00f41d7",
        "colab": {
          "base_uri": "https://localhost:8080/",
          "height": 51
        }
      },
      "source": [
        "type(print(2))"
      ],
      "execution_count": 53,
      "outputs": [
        {
          "output_type": "stream",
          "text": [
            "2\n"
          ],
          "name": "stdout"
        },
        {
          "output_type": "execute_result",
          "data": {
            "text/plain": [
              "NoneType"
            ]
          },
          "metadata": {
            "tags": []
          },
          "execution_count": 53
        }
      ]
    },
    {
      "cell_type": "markdown",
      "metadata": {
        "id": "Dsgy7GZpGqii",
        "colab_type": "text"
      },
      "source": [
        "looping"
      ]
    },
    {
      "cell_type": "code",
      "metadata": {
        "trusted": true,
        "id": "YeHfmPVSGqik",
        "colab_type": "code",
        "outputId": "1a0c0b60-ddf1-444c-db8f-a60cf33c4619",
        "colab": {
          "base_uri": "https://localhost:8080/",
          "height": 51
        }
      },
      "source": [
        "# while loop\n",
        "\n",
        "a = int(input('Enter a number: '))  #as input() is str type,so typecasting is done\n",
        "i = 1     # i is a local temporary variable storing integers within a given range\n",
        "sum = 0\n",
        "while i<a:\n",
        "    sum = sum+i\n",
        "    i = i+1\n",
        "\n",
        "print(sum)"
      ],
      "execution_count": 54,
      "outputs": [
        {
          "output_type": "stream",
          "text": [
            "Enter a number: 10\n",
            "45\n"
          ],
          "name": "stdout"
        }
      ]
    },
    {
      "cell_type": "code",
      "metadata": {
        "trusted": true,
        "id": "4NASOtZqGqin",
        "colab_type": "code",
        "outputId": "25845cba-8e95-4866-e864-e6048365f1d9",
        "colab": {
          "base_uri": "https://localhost:8080/",
          "height": 102
        }
      },
      "source": [
        "# for loop\n",
        "\n",
        "for i in range(5):    # i starts from 0 by-default untill assigned, and excludes the upper bound\n",
        "    print(i)"
      ],
      "execution_count": 55,
      "outputs": [
        {
          "output_type": "stream",
          "text": [
            "0\n",
            "1\n",
            "2\n",
            "3\n",
            "4\n"
          ],
          "name": "stdout"
        }
      ]
    },
    {
      "cell_type": "code",
      "metadata": {
        "trusted": true,
        "id": "lUqQ7cTzGqip",
        "colab_type": "code",
        "outputId": "7b2f2b0c-c606-4829-8c4b-50208d9c4a46",
        "colab": {
          "base_uri": "https://localhost:8080/",
          "height": 34
        }
      },
      "source": [
        "for j in range(1,10,3):  # range() takes 3 arguments namely lower and upper bounds with step-size/jump. \n",
        "                         #If jump is not mentioned, by-default is 1\n",
        "    print(j,end = ' ')"
      ],
      "execution_count": 56,
      "outputs": [
        {
          "output_type": "stream",
          "text": [
            "1 4 7 "
          ],
          "name": "stdout"
        }
      ]
    },
    {
      "cell_type": "code",
      "metadata": {
        "trusted": true,
        "id": "FoK9YqKwGqis",
        "colab_type": "code",
        "outputId": "fd19d29a-d141-48c5-d001-745e516b0042",
        "colab": {
          "base_uri": "https://localhost:8080/",
          "height": 34
        }
      },
      "source": [
        "for j in range(12,3,-2):          # step-size can be both positive and negative\n",
        "    print(j,end = ' ')"
      ],
      "execution_count": 57,
      "outputs": [
        {
          "output_type": "stream",
          "text": [
            "12 10 8 6 4 "
          ],
          "name": "stdout"
        }
      ]
    },
    {
      "cell_type": "code",
      "metadata": {
        "trusted": true,
        "id": "dfu6dpynGqiu",
        "colab_type": "code",
        "outputId": "bf3b8344-0120-47c8-d5fb-edd2348ed5bf",
        "colab": {
          "base_uri": "https://localhost:8080/",
          "height": 34
        }
      },
      "source": [
        "for i in 'probability':\n",
        "    print(i, end = ' ')"
      ],
      "execution_count": 58,
      "outputs": [
        {
          "output_type": "stream",
          "text": [
            "p r o b a b i l i t y "
          ],
          "name": "stdout"
        }
      ]
    },
    {
      "cell_type": "markdown",
      "metadata": {
        "id": "Cpge3K9oGqiy",
        "colab_type": "text"
      },
      "source": [
        "break and continue statements "
      ]
    },
    {
      "cell_type": "code",
      "metadata": {
        "trusted": true,
        "id": "yIJbL86MGqiy",
        "colab_type": "code",
        "outputId": "f248f0b1-fa45-444f-f6f4-adee87773acc",
        "colab": {
          "base_uri": "https://localhost:8080/",
          "height": 34
        }
      },
      "source": [
        "for a in range(20,2,-1):\n",
        "    if a%2 == 0:\n",
        "        continue\n",
        "    else:\n",
        "        print(a,end = ' ')"
      ],
      "execution_count": 59,
      "outputs": [
        {
          "output_type": "stream",
          "text": [
            "19 17 15 13 11 9 7 5 3 "
          ],
          "name": "stdout"
        }
      ]
    },
    {
      "cell_type": "code",
      "metadata": {
        "trusted": true,
        "id": "UUGVCYd1Gqi1",
        "colab_type": "code",
        "outputId": "43ee2390-d603-4519-c828-621152e1f3c3",
        "colab": {
          "base_uri": "https://localhost:8080/",
          "height": 153
        }
      },
      "source": [
        "for f in 'marshmellow':\n",
        "    if f == 'l':\n",
        "        break\n",
        "    print(f)\n",
        "print('no further execution')"
      ],
      "execution_count": 60,
      "outputs": [
        {
          "output_type": "stream",
          "text": [
            "m\n",
            "a\n",
            "r\n",
            "s\n",
            "h\n",
            "m\n",
            "e\n",
            "no further execution\n"
          ],
          "name": "stdout"
        }
      ]
    },
    {
      "cell_type": "code",
      "metadata": {
        "trusted": true,
        "id": "rLdrl3ZNGqi4",
        "colab_type": "code",
        "outputId": "bbdbbeb1-0d61-4f80-a6f6-1a317f814b22",
        "colab": {
          "base_uri": "https://localhost:8080/",
          "height": 187
        }
      },
      "source": [
        "for f in 'marshmellow':\n",
        "    if f == 'l':\n",
        "        continue\n",
        "    print(f)\n",
        "print('no further execution')"
      ],
      "execution_count": 61,
      "outputs": [
        {
          "output_type": "stream",
          "text": [
            "m\n",
            "a\n",
            "r\n",
            "s\n",
            "h\n",
            "m\n",
            "e\n",
            "o\n",
            "w\n",
            "no further execution\n"
          ],
          "name": "stdout"
        }
      ]
    }
  ]
}