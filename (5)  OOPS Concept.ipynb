{
 "cells": [
  {
   "cell_type": "markdown",
   "metadata": {
    "collapsed": false
   },
   "source": [
    "**CLASSES & OBJECTS**"
   ]
  },
  {
   "cell_type": "markdown",
   "metadata": {
    "collapsed": false
   },
   "source": [
    "Type-1"
   ]
  },
  {
   "cell_type": "code",
   "execution_count": 1,
   "metadata": {
    "collapsed": false
   },
   "outputs": [
    {
     "name": "stdout",
     "output_type": "stream",
     "text": [
      "Anim\n",
      "Tanish\n",
      "456936\n",
      "456256\n"
     ]
    }
   ],
   "source": [
    "class student:\n",
    "    pass\n",
    "\n",
    "s1 = student()\n",
    "s1.name = 'Anim'\n",
    "s1.surname = 'Thakur'\n",
    "s1.rollno = 456936\n",
    "s1.yob = 1996\n",
    "\n",
    "s2 = student()\n",
    "s2.name = 'Tanish'\n",
    "s2.surname = 'Mathur'\n",
    "s2.rollno = 456256\n",
    "s2.yob = 1999\n",
    "\n",
    "print(s1.name)\n",
    "print(s2.name)\n",
    "print(s1.rollno)\n",
    "print(s2.rollno)"
   ]
  },
  {
   "cell_type": "markdown",
   "metadata": {
    "collapsed": false
   },
   "source": [
    "Type-2"
   ]
  },
  {
   "cell_type": "code",
   "execution_count": 3,
   "metadata": {
    "collapsed": false
   },
   "outputs": [
    {
     "name": "stdout",
     "output_type": "stream",
     "text": [
      "<__main__.Employee object at 0x7fdc96e79c88>\n",
      "Karan Joshi, your monthly salary is Rs 50000\n"
     ]
    }
   ],
   "source": [
    "class Employee:\n",
    "    \n",
    "    def __init__(self,name,surname,pay):       # __init__ is a class method,self behaves as a pointer\n",
    "        self.name = name\n",
    "        self.surname1 = surname\n",
    "        self.pay = pay\n",
    "        \n",
    "e = Employee('Karan','Joshi',50000)\n",
    "print(e)\n",
    "print(\"{} {}, your monthly salary is Rs {}\".format(e.name,e.surname1,e.pay))"
   ]
  },
  {
   "cell_type": "code",
   "execution_count": 4,
   "metadata": {
    "collapsed": false
   },
   "outputs": [
    {
     "ename": "AttributeError",
     "evalue": "'car' object has no attribute 'name'",
     "output_type": "error",
     "traceback": [
      "\u001b[0;31m---------------------------------------------------------------------------\u001b[0m",
      "\u001b[0;31mAttributeError\u001b[0m                            Traceback (most recent call last)",
      "\u001b[0;32m<ipython-input-4-347231ab81d1>\u001b[0m in \u001b[0;36m<module>\u001b[0;34m\u001b[0m\n\u001b[1;32m      7\u001b[0m \u001b[0;34m\u001b[0m\u001b[0m\n\u001b[1;32m      8\u001b[0m \u001b[0mc\u001b[0m \u001b[0;34m=\u001b[0m \u001b[0mcar\u001b[0m\u001b[0;34m(\u001b[0m\u001b[0;34m'Audi A3'\u001b[0m\u001b[0;34m,\u001b[0m\u001b[0;34m'Pirelli'\u001b[0m\u001b[0;34m,\u001b[0m\u001b[0;34m'Diesel'\u001b[0m\u001b[0;34m,\u001b[0m\u001b[0;36m3\u001b[0m\u001b[0;34m)\u001b[0m\u001b[0;34m\u001b[0m\u001b[0;34m\u001b[0m\u001b[0m\n\u001b[0;32m----> 9\u001b[0;31m \u001b[0mprint\u001b[0m\u001b[0;34m(\u001b[0m\u001b[0mc\u001b[0m\u001b[0;34m.\u001b[0m\u001b[0mname\u001b[0m\u001b[0;34m)\u001b[0m\u001b[0;34m\u001b[0m\u001b[0;34m\u001b[0m\u001b[0m\n\u001b[0m",
      "\u001b[0;31mAttributeError\u001b[0m: 'car' object has no attribute 'name'"
     ]
    }
   ],
   "source": [
    "class car:\n",
    "    \n",
    "    def __init__(a,name,branch,fuel_type,noise_level):      # here 'a' behaves as self\n",
    "        a.name1 = name\n",
    "        a.branch = branch\n",
    "        a.fuel_type1 = fuel_type\n",
    "        a.noise_level = noise_level\n",
    "        \n",
    "c = car('Audi A3','Pirelli','Diesel',3)\n",
    "print(c.name)"
   ]
  },
  {
   "cell_type": "code",
   "execution_count": 6,
   "metadata": {
    "collapsed": false
   },
   "outputs": [
    {
     "name": "stdout",
     "output_type": "stream",
     "text": [
      "Audi A3\n"
     ]
    },
    {
     "data": {
      "text/plain": [
       "3"
      ]
     },
     "execution_count": 6,
     "metadata": {
     },
     "output_type": "execute_result"
    }
   ],
   "source": [
    "print(c.name1)\n",
    "c.noise_level"
   ]
  },
  {
   "cell_type": "code",
   "execution_count": 8,
   "metadata": {
    "collapsed": false
   },
   "outputs": [
    {
     "name": "stdout",
     "output_type": "stream",
     "text": [
      "<__main__.person object at 0x7fdc96e86da0>\n",
      "2002\n"
     ]
    }
   ],
   "source": [
    "class person:\n",
    "    \n",
    "    def __init__(self,name,surname,yob):\n",
    "        self.name = name\n",
    "        self.surname = surname\n",
    "        self.yob = yob\n",
    "    \n",
    "    def g(self,m,n):\n",
    "        return m+n+self.yob\n",
    "    \n",
    "p = person('Wasim','Khan',1987)\n",
    "print(p)\n",
    "print(p.g(5,10))"
   ]
  },
  {
   "cell_type": "code",
   "execution_count": 10,
   "metadata": {
    "collapsed": false
   },
   "outputs": [
    {
     "name": "stdout",
     "output_type": "stream",
     "text": [
      "I am Dang Wushi. I was born in 2005.\n",
      "I am Dang Wushi. I was born in 2005.\n"
     ]
    }
   ],
   "source": [
    "class person:\n",
    "    \n",
    "    def __init__(self,name,surname,yob):\n",
    "        self.name = name\n",
    "        self.surname = surname\n",
    "        self.yob = yob\n",
    "    \n",
    "    def g(self):\n",
    "        return \"I am %s %s. I was born in %d.\" %(self.name,self.surname,self.yob)\n",
    "    \n",
    "r = person('Dang','Wushi',2005)\n",
    "print(r.g())\n",
    "print(person.g(r))                                    # either we can use"
   ]
  },
  {
   "cell_type": "markdown",
   "metadata": {
    "collapsed": false
   },
   "source": [
    "##Method Overloading"
   ]
  },
  {
   "cell_type": "code",
   "execution_count": 97,
   "metadata": {
    "collapsed": false
   },
   "outputs": [
    {
     "name": "stdout",
     "output_type": "stream",
     "text": [
      "House:\n",
      " \tType:RCC\n",
      " \tColour:Bluish\n",
      " \tTotal doors:10\n",
      " \tEstablished:2000\n",
      "\n",
      "Total years of establishment: 20\n"
     ]
    }
   ],
   "source": [
    "class House():\n",
    "    \n",
    "    def __init__(p,type,colour,no_doors,established):                   \n",
    "        p.type = type \n",
    "        p.colour = colour\n",
    "        p.no_doors = no_doors\n",
    "        p.established = established\n",
    "        \n",
    "    def g(p,current_year):\n",
    "        return current_year - p.established\n",
    "    \n",
    "    def __str__(p):                                        # __str__ is an inbiult method which always returns a string and its an overloading\n",
    "        return 'House:\\n \\tType:%s\\n \\tColour:%s\\n \\tTotal doors:%d\\n \\tEstablished:%d' %(p.type,p.colour,p.no_doors,p.established)\n",
    "    \n",
    "h = House('RCC','Bluish',10,2000)\n",
    "print(h)\n",
    "print('\\nTotal years of establishment:',h.g(2020))"
   ]
  },
  {
   "cell_type": "markdown",
   "metadata": {
    "collapsed": false
   },
   "source": [
    "Type-3"
   ]
  },
  {
   "cell_type": "code",
   "execution_count": 17,
   "metadata": {
    "collapsed": false
   },
   "outputs": [
    {
     "name": "stdout",
     "output_type": "stream",
     "text": [
      "Alex\n",
      "Australia\n"
     ]
    }
   ],
   "source": [
    "class player:\n",
    "    \n",
    "    def pass_name(self,name):\n",
    "        self.name = name\n",
    "    \n",
    "    def pass_country(self,country):\n",
    "        self.country = country\n",
    "        \n",
    "    def pass_jerseycol(self,jerseycol):\n",
    "        self.jerseycol = jerseycol\n",
    "        \n",
    "    def pass_yob(self,yob):\n",
    "        self.yob = yob\n",
    "        \n",
    "y = player()\n",
    "y.pass_name('Alex')\n",
    "y.pass_country('Australia')\n",
    "print(y.name)\n",
    "print(y.country)"
   ]
  },
  {
   "cell_type": "code",
   "execution_count": 36,
   "metadata": {
    "collapsed": false
   },
   "outputs": [
    {
     "name": "stdout",
     "output_type": "stream",
     "text": [
      "0\n",
      "2\n",
      "25000\n",
      "25002\n"
     ]
    }
   ],
   "source": [
    "# Declaring Class Variable\n",
    "\n",
    "class Employee:\n",
    "    \n",
    "    raise_amt = 2.85                                 #class variable\n",
    "    no_of_empl = 0\n",
    "    \n",
    "    def __init__(self,name,surname,pay):\n",
    "        self.name = name\n",
    "        self.surname = surname\n",
    "        self.pay = pay\n",
    "        \n",
    "        Employee.no_of_empl += 1\n",
    "        \n",
    "    def pay_raise(self):\n",
    "        self.pay = int(self.pay + self.raise_amt)\n",
    "        \n",
    "print(Employee.no_of_empl)\n",
    "emp1 = Employee('Sam','Huddleson',25000)\n",
    "emp2 = Employee('Surendar','Patel',30000)\n",
    "print(Employee.no_of_empl)\n",
    "print(emp1.pay)\n",
    "emp1.pay_raise()\n",
    "print(emp1.pay)"
   ]
  },
  {
   "cell_type": "markdown",
   "metadata": {
    "collapsed": false
   },
   "source": [
    "**ABSTRACTION**\n"
   ]
  },
  {
   "cell_type": "code",
   "execution_count": 46,
   "metadata": {
    "collapsed": false
   },
   "outputs": [
    {
     "ename": "AttributeError",
     "evalue": "'school' object has no attribute 'n'",
     "output_type": "error",
     "traceback": [
      "\u001b[0;31m---------------------------------------------------------------------------\u001b[0m",
      "\u001b[0;31mAttributeError\u001b[0m                            Traceback (most recent call last)",
      "\u001b[0;32m<ipython-input-46-feb0d9535dff>\u001b[0m in \u001b[0;36m<module>\u001b[0;34m\u001b[0m\n\u001b[1;32m      7\u001b[0m \u001b[0;34m\u001b[0m\u001b[0m\n\u001b[1;32m      8\u001b[0m \u001b[0msc\u001b[0m \u001b[0;34m=\u001b[0m \u001b[0mschool\u001b[0m\u001b[0;34m(\u001b[0m\u001b[0;34m'Vidyamandir'\u001b[0m\u001b[0;34m,\u001b[0m\u001b[0;34m'Imaglia'\u001b[0m\u001b[0;34m,\u001b[0m\u001b[0;36m1998\u001b[0m\u001b[0;34m)\u001b[0m\u001b[0;34m\u001b[0m\u001b[0;34m\u001b[0m\u001b[0m\n\u001b[0;32m----> 9\u001b[0;31m \u001b[0mprint\u001b[0m\u001b[0;34m(\u001b[0m\u001b[0msc\u001b[0m\u001b[0;34m.\u001b[0m\u001b[0mn\u001b[0m\u001b[0;34m)\u001b[0m\u001b[0;34m\u001b[0m\u001b[0;34m\u001b[0m\u001b[0m\n\u001b[0m",
      "\u001b[0;31mAttributeError\u001b[0m: 'school' object has no attribute 'n'"
     ]
    }
   ],
   "source": [
    "class school:\n",
    "    \n",
    "    def __init__(self,name,loc,established):\n",
    "        self._n = name                         # \"_\" means protected (in general).But Python has no concept as public,protected & private\n",
    "        self.l = loc\n",
    "        self.e = established\n",
    "        \n",
    "sc = school('Vidyamandir','Imaglia',1998)\n",
    "print(sc.n)\n"
   ]
  },
  {
   "cell_type": "code",
   "execution_count": 47,
   "metadata": {
    "collapsed": false
   },
   "outputs": [
    {
     "name": "stdout",
     "output_type": "stream",
     "text": [
      "{'_n': 'Vidyamandir', 'l': 'Imaglia', 'e': 1998}\n"
     ]
    }
   ],
   "source": [
    "print(sc.__dict__)\n"
   ]
  },
  {
   "cell_type": "code",
   "execution_count": 48,
   "metadata": {
    "collapsed": false
   },
   "outputs": [
    {
     "name": "stdout",
     "output_type": "stream",
     "text": [
      "I did my schooling from Vidyamandir located at Imaglia which was started in 1998.\n"
     ]
    }
   ],
   "source": [
    "print(\"I did my schooling from {} located at {} which was started in {}.\".format(sc._n,sc.l,sc.e))"
   ]
  },
  {
   "cell_type": "code",
   "execution_count": 60,
   "metadata": {
    "collapsed": false
   },
   "outputs": [
    {
     "name": "stdout",
     "output_type": "stream",
     "text": [
      "{'_school__n': 'Vidyamandir', '_l': 'Imaglia', 'e': 1998}\n"
     ]
    }
   ],
   "source": [
    "class school:\n",
    "    \n",
    "    def __init__(self,name,loc,established):\n",
    "        self.__n = name                                # \"__\" means private(in general)\n",
    "        self._l = loc\n",
    "        self.e = established                           # public(in general) \n",
    "        \n",
    "sc = school('Vidyamandir','Imaglia',1998)\n",
    "print(sc.__dict__)"
   ]
  },
  {
   "cell_type": "code",
   "execution_count": 61,
   "metadata": {
    "collapsed": false
   },
   "outputs": [
    {
     "name": "stdout",
     "output_type": "stream",
     "text": [
      "I did my schooling from Vidyamandir located at Imaglia which was started in 1998.\n"
     ]
    }
   ],
   "source": [
    "print(\"I did my schooling from {} located at {} which was started in {}.\".format(sc._school__n,sc._l,sc.e))"
   ]
  },
  {
   "cell_type": "markdown",
   "metadata": {
    "collapsed": false
   },
   "source": [
    "**INHERITANCE**"
   ]
  },
  {
   "cell_type": "code",
   "execution_count": 85,
   "metadata": {
    "collapsed": false
   },
   "outputs": [
    {
     "name": "stdout",
     "output_type": "stream",
     "text": [
      "1982\n",
      "I am Darsha Rathore. I was born in 1982.\n"
     ]
    }
   ],
   "source": [
    "class parent:\n",
    "    \n",
    "    def __init__(self,name,surname,yob):\n",
    "        self.name = name\n",
    "        self.surname = surname\n",
    "        self.yob = yob\n",
    "        \n",
    "    def __str__(self):\n",
    "        return  \"I am %s %s. I was born in %d.\"  %(self.name,self.surname,self.yob)\n",
    "    \n",
    "class child(parent):\n",
    "    \n",
    "    def __init__(self,child_id,*args):\n",
    "        super(child,self).__init__(*args)                                          # super(class,instance)\n",
    "        self.child_id = child_id\n",
    "    \n",
    "c = child(102,'Darsha','Rathore',1982)\n",
    "print(c.yob)\n",
    "print(c)"
   ]
  },
  {
   "cell_type": "markdown",
   "metadata": {
    "collapsed": false
   },
   "source": [
    "##Method Overriding"
   ]
  },
  {
   "cell_type": "code",
   "execution_count": 89,
   "metadata": {
    "collapsed": false
   },
   "outputs": [
    {
     "name": "stdout",
     "output_type": "stream",
     "text": [
      "Kakoli\n",
      "I am Kakoli Sharma. I was born in 1993. I love playing Gitar.\n"
     ]
    }
   ],
   "source": [
    "class child(parent):\n",
    "    \n",
    "    def __init__(self,child_id,*args):\n",
    "        super(child,self).__init__(*args)                                          \n",
    "        self.child_id = child_id\n",
    "        \n",
    "    def __str__(self):\n",
    "        return super(child,self).__str__ () + ' I love playing Gitar.'         #Overriding \n",
    "    \n",
    "d = child(112,\"Kakoli\",'Sharma',1993)\n",
    "print(d.name)\n",
    "print(d)"
   ]
  },
  {
   "cell_type": "code",
   "execution_count": 104,
   "metadata": {
    "collapsed": false
   },
   "outputs": [
    {
     "name": "stdout",
     "output_type": "stream",
     "text": [
      "My name is Karam\n",
      "My name is Dharam\n",
      "My name is Karam\n",
      "My name is Dharam\n"
     ]
    }
   ],
   "source": [
    "class A:\n",
    "    \n",
    "    def test(self):\n",
    "        print('My name is Karam')\n",
    "        \n",
    "class B:\n",
    "    \n",
    "    def test(self):\n",
    "        print('My name is Dharam')\n",
    "        \n",
    "class C(A,B):\n",
    "    obja = A()\n",
    "    objb = B()\n",
    "    obja.test()\n",
    "    objb.test()\n",
    "    \n",
    "objc = C()\n",
    "objc.test()\n",
    "\n",
    "class C(B,A):\n",
    "    obja = A()\n",
    "    objb = B()\n",
    "\n",
    "objc = C()    \n",
    "objc.test()"
   ]
  },
  {
   "cell_type": "markdown",
   "metadata": {
    "collapsed": false
   },
   "source": [
    "**ENCAPSULATION**"
   ]
  },
  {
   "cell_type": "markdown",
   "metadata": {
    "collapsed": false
   },
   "source": [
    "##Composition / Composite Encapsulation"
   ]
  },
  {
   "cell_type": "code",
   "execution_count": 107,
   "metadata": {
    "collapsed": false
   },
   "outputs": [
    {
     "name": "stdout",
     "output_type": "stream",
     "text": [
      "Tyres:\n",
      " \tBranch:Pirelli\n",
      " \tBelted bias:True\n",
      " \tOptimum Pressure:2.0\n",
      "Engine:\n",
      " \tFuel Type:Diesel\n",
      " \tNoise Level:3\n",
      "Body:\n",
      " \tSize:Medium\n"
     ]
    }
   ],
   "source": [
    "class tyre:\n",
    "    \n",
    "    def __init__(self,branch, belted_bias, opt_pressure):\n",
    "        self.branch = branch\n",
    "        self.belted_bias = belted_bias\n",
    "        self.opt_pressure = opt_pressure\n",
    "        \n",
    "    def __str__(self):\n",
    "        return \"Tyres:\\n \\tBranch:\" + self.branch + \"\\n \\tBelted bias:\" + str(self.belted_bias) + \"\\n \\tOptimum Pressure:\" +  str(self.opt_pressure)\n",
    "    \n",
    "t = tyre('Pirelli','True',2.0)\n",
    "\n",
    "\n",
    "class engine:\n",
    "    \n",
    "    def __init__(self, fuel_type, noise_level):\n",
    "        self.fuel_type = fuel_type\n",
    "        self.noise_level = noise_level\n",
    "        \n",
    "    def __str__(self):\n",
    "         return \"Engine:\\n \\tFuel Type:\" + (self.fuel_type) + \"\\n \\tNoise Level:\" +  str(self.noise_level)\n",
    "        \n",
    "e = engine(\"Diesel\",3)\n",
    "\n",
    "\n",
    "class body:\n",
    "    \n",
    "    def __init__(self,size):\n",
    "        self.size = size\n",
    "    \n",
    "    def __str__(self):\n",
    "        return \"Body:\\n \\tSize:\" + str(self.size)\n",
    "    \n",
    "b = body('Medium')\n",
    "\n",
    "\n",
    "class Car:\n",
    "    \n",
    "    def __init__(self,tyre,engine,body):\n",
    "        self.tyre1 = tyre\n",
    "        self.engine1 = engine\n",
    "        self.body1 = body\n",
    "    \n",
    "    def __str__(self):\n",
    "        return str(self.tyre1) + '\\n' + str(self.engine1) + '\\n' + str(self.body1)\n",
    "    \n",
    "c = Car(t,e,b)\n",
    "print(c)    \n",
    "\n"
   ]
  },
  {
   "cell_type": "markdown",
   "metadata": {
    "collapsed": false
   },
   "source": [
    "##Dynamic Extension / Dynamic Encapsulation"
   ]
  },
  {
   "cell_type": "code",
   "execution_count": 108,
   "metadata": {
    "collapsed": false
   },
   "outputs": [
    {
     "name": "stdout",
     "output_type": "stream",
     "text": [
      "Tyres:\n",
      " \tBranch:Pirelli\n",
      " \tBelted bias:True\n",
      " \tOptimum Pressure:2.0\n",
      "Engine:\n",
      " \tFuel Type:Diesel\n",
      " \tNoise Level:3\n",
      "Body:\n",
      " \tSize:Medium\n"
     ]
    }
   ],
   "source": [
    "c = Car(t,engine(\"Diesel\",3),b)\n",
    "print(c)"
   ]
  },
  {
   "cell_type": "markdown",
   "metadata": {
    "collapsed": false
   },
   "source": [
    "**POLYMORPHISM**\n",
    "\n",
    "- same entity with different behaviour in different situation/environment"
   ]
  },
  {
   "cell_type": "code",
   "execution_count": 116,
   "metadata": {
    "collapsed": false
   },
   "outputs": [
    {
     "name": "stdout",
     "output_type": "stream",
     "text": [
      "9\n",
      "8.1\n",
      "[1, 5, 8, 2, 6, 4]\n",
      "learn grow\n"
     ]
    }
   ],
   "source": [
    "def add(m,n):\n",
    "    return m+n\n",
    "\n",
    "print(add(1,8))\n",
    "print(add(2.5,5.6))\n",
    "print(add([1,5,8],[2,6,4]))\n",
    "print(add(('learn'),(' grow')))"
   ]
  },
  {
   "cell_type": "code",
   "execution_count": 118,
   "metadata": {
    "collapsed": false
   },
   "outputs": [
    {
     "name": "stdout",
     "output_type": "stream",
     "text": [
      "14.0\n",
      "10\n",
      "['learner', 'learner', 'learner']\n"
     ]
    }
   ],
   "source": [
    "def mul(a,b):\n",
    "    return a*b\n",
    "\n",
    "print(mul(2.5,5.6))\n",
    "print(mul(2,5))\n",
    "print(mul(['learner'],3))"
   ]
  }
 ],
 "metadata": {
  "kernelspec": {
   "display_name": "Python 3 (system-wide)",
   "language": "python",
   "metadata": {
    "cocalc": {
     "description": "Python 3 programming language",
     "priority": 100,
     "url": "https://www.python.org/"
    }
   },
   "name": "python3"
  },
  "language_info": {
   "codemirror_mode": {
    "name": "ipython",
    "version": 3
   },
   "file_extension": ".py",
   "mimetype": "text/x-python",
   "name": "python",
   "nbconvert_exporter": "python",
   "pygments_lexer": "ipython3",
   "version": "3.6.9"
  }
 },
 "nbformat": 4,
 "nbformat_minor": 4
}