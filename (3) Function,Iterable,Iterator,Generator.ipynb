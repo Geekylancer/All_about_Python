{
  "nbformat": 4,
  "nbformat_minor": 0,
  "metadata": {
    "colab": {
      "name": "(3) Function,Iterable,Iterator,Generator.ipynb",
      "provenance": []
    },
    "kernelspec": {
      "name": "python3",
      "display_name": "Python 3"
    }
  },
  "cells": [
    {
      "cell_type": "markdown",
      "metadata": {
        "id": "C9d9aTPzc3FZ",
        "colab_type": "text"
      },
      "source": [
        "# **Function**"
      ]
    },
    {
      "cell_type": "code",
      "metadata": {
        "id": "ZS7GBaOZ_jk7",
        "colab_type": "code",
        "colab": {}
      },
      "source": [
        "def test():\n",
        "    pass"
      ],
      "execution_count": 0,
      "outputs": []
    },
    {
      "cell_type": "code",
      "metadata": {
        "id": "DCrCdO7yOwQ-",
        "colab_type": "code",
        "colab": {
          "base_uri": "https://localhost:8080/",
          "height": 34
        },
        "outputId": "842e73fd-ad22-49a2-eece-7251dca36229"
      },
      "source": [
        "type(test())"
      ],
      "execution_count": 132,
      "outputs": [
        {
          "output_type": "execute_result",
          "data": {
            "text/plain": [
              "NoneType"
            ]
          },
          "metadata": {
            "tags": []
          },
          "execution_count": 132
        }
      ]
    },
    {
      "cell_type": "code",
      "metadata": {
        "id": "tb4EhHzrO1Z-",
        "colab_type": "code",
        "colab": {}
      },
      "source": [
        "def test():\n",
        "    a = 1\n",
        "    b = 3\n",
        "    return a+b"
      ],
      "execution_count": 0,
      "outputs": []
    },
    {
      "cell_type": "code",
      "metadata": {
        "id": "UQSJkBG6O-l_",
        "colab_type": "code",
        "colab": {
          "base_uri": "https://localhost:8080/",
          "height": 34
        },
        "outputId": "7b61579b-76eb-42f2-ab22-3e492fc290f1"
      },
      "source": [
        "test()"
      ],
      "execution_count": 134,
      "outputs": [
        {
          "output_type": "execute_result",
          "data": {
            "text/plain": [
              "4"
            ]
          },
          "metadata": {
            "tags": []
          },
          "execution_count": 134
        }
      ]
    },
    {
      "cell_type": "code",
      "metadata": {
        "id": "IRHb9Bj8Pet-",
        "colab_type": "code",
        "colab": {
          "base_uri": "https://localhost:8080/",
          "height": 34
        },
        "outputId": "24a5aab4-757a-4a7f-9242-87474a32a6e7"
      },
      "source": [
        "type(test())"
      ],
      "execution_count": 135,
      "outputs": [
        {
          "output_type": "execute_result",
          "data": {
            "text/plain": [
              "int"
            ]
          },
          "metadata": {
            "tags": []
          },
          "execution_count": 135
        }
      ]
    },
    {
      "cell_type": "code",
      "metadata": {
        "id": "nHZ2yAdxPjnJ",
        "colab_type": "code",
        "colab": {
          "base_uri": "https://localhost:8080/",
          "height": 34
        },
        "outputId": "002e4aab-9f23-4aaf-8a5b-e01552ad60e4"
      },
      "source": [
        "k = test()\n",
        "k + 9"
      ],
      "execution_count": 136,
      "outputs": [
        {
          "output_type": "execute_result",
          "data": {
            "text/plain": [
              "13"
            ]
          },
          "metadata": {
            "tags": []
          },
          "execution_count": 136
        }
      ]
    },
    {
      "cell_type": "code",
      "metadata": {
        "id": "FnGUcL7MPAO9",
        "colab_type": "code",
        "colab": {}
      },
      "source": [
        "def test1():\n",
        "    a = 2\n",
        "    c = 4\n",
        "    print('Result: ',a+c)"
      ],
      "execution_count": 0,
      "outputs": []
    },
    {
      "cell_type": "code",
      "metadata": {
        "id": "0QLg39gMPNLt",
        "colab_type": "code",
        "colab": {
          "base_uri": "https://localhost:8080/",
          "height": 34
        },
        "outputId": "648bb84e-d4a2-47fe-d3c5-55788eab89c7"
      },
      "source": [
        "test1()"
      ],
      "execution_count": 138,
      "outputs": [
        {
          "output_type": "stream",
          "text": [
            "Result:  6\n"
          ],
          "name": "stdout"
        }
      ]
    },
    {
      "cell_type": "code",
      "metadata": {
        "id": "ZIM5hASOPWq6",
        "colab_type": "code",
        "colab": {
          "base_uri": "https://localhost:8080/",
          "height": 51
        },
        "outputId": "d407a548-00df-4bdb-d404-ed45baa9b00b"
      },
      "source": [
        "type(test1())"
      ],
      "execution_count": 139,
      "outputs": [
        {
          "output_type": "stream",
          "text": [
            "Result:  6\n"
          ],
          "name": "stdout"
        },
        {
          "output_type": "execute_result",
          "data": {
            "text/plain": [
              "NoneType"
            ]
          },
          "metadata": {
            "tags": []
          },
          "execution_count": 139
        }
      ]
    },
    {
      "cell_type": "code",
      "metadata": {
        "id": "UZXpg31fPPfH",
        "colab_type": "code",
        "colab": {
          "base_uri": "https://localhost:8080/",
          "height": 51
        },
        "outputId": "b04371f4-fecc-44e3-d50c-8e1d014331e6"
      },
      "source": [
        "type(print())             # type of print() is NoneType by default"
      ],
      "execution_count": 140,
      "outputs": [
        {
          "output_type": "stream",
          "text": [
            "\n"
          ],
          "name": "stdout"
        },
        {
          "output_type": "execute_result",
          "data": {
            "text/plain": [
              "NoneType"
            ]
          },
          "metadata": {
            "tags": []
          },
          "execution_count": 140
        }
      ]
    },
    {
      "cell_type": "code",
      "metadata": {
        "id": "8tpUWI9zPUWM",
        "colab_type": "code",
        "colab": {}
      },
      "source": [
        "def test2(a,b):\n",
        "    return a+b"
      ],
      "execution_count": 0,
      "outputs": []
    },
    {
      "cell_type": "code",
      "metadata": {
        "id": "jDVtYYjdP_9_",
        "colab_type": "code",
        "colab": {
          "base_uri": "https://localhost:8080/",
          "height": 34
        },
        "outputId": "fbc74016-647f-472c-ceb7-00a4150c9221"
      },
      "source": [
        "test2(6,20)"
      ],
      "execution_count": 142,
      "outputs": [
        {
          "output_type": "execute_result",
          "data": {
            "text/plain": [
              "26"
            ]
          },
          "metadata": {
            "tags": []
          },
          "execution_count": 142
        }
      ]
    },
    {
      "cell_type": "code",
      "metadata": {
        "id": "rltYFFAvQB42",
        "colab_type": "code",
        "colab": {
          "base_uri": "https://localhost:8080/",
          "height": 34
        },
        "outputId": "960c28b0-bd37-446b-ec9f-eabb04cd53f9"
      },
      "source": [
        "type(test2(6,20))"
      ],
      "execution_count": 143,
      "outputs": [
        {
          "output_type": "execute_result",
          "data": {
            "text/plain": [
              "int"
            ]
          },
          "metadata": {
            "tags": []
          },
          "execution_count": 143
        }
      ]
    },
    {
      "cell_type": "code",
      "metadata": {
        "id": "QdYVPOYPQE6U",
        "colab_type": "code",
        "colab": {}
      },
      "source": [
        "def test3(p,q=10):\n",
        "    print((p-q),',',(p+q),',',(p*q),',',(int(p/q)))"
      ],
      "execution_count": 0,
      "outputs": []
    },
    {
      "cell_type": "code",
      "metadata": {
        "id": "88Ho7IaVQo8X",
        "colab_type": "code",
        "colab": {
          "base_uri": "https://localhost:8080/",
          "height": 34
        },
        "outputId": "dcdb3d2f-8621-4264-a828-02198f53c248"
      },
      "source": [
        "test3(20)"
      ],
      "execution_count": 145,
      "outputs": [
        {
          "output_type": "stream",
          "text": [
            "10 , 30 , 200 , 2\n"
          ],
          "name": "stdout"
        }
      ]
    },
    {
      "cell_type": "code",
      "metadata": {
        "id": "GIFaHh_1Q1Ub",
        "colab_type": "code",
        "colab": {
          "base_uri": "https://localhost:8080/",
          "height": 34
        },
        "outputId": "6bae50c6-fda9-4ca7-fa26-4e5e7831afbb"
      },
      "source": [
        "test3(800)           #argument reassignment"
      ],
      "execution_count": 146,
      "outputs": [
        {
          "output_type": "stream",
          "text": [
            "790 , 810 , 8000 , 80\n"
          ],
          "name": "stdout"
        }
      ]
    },
    {
      "cell_type": "code",
      "metadata": {
        "id": "-Y3C2sIrUmXQ",
        "colab_type": "code",
        "colab": {
          "base_uri": "https://localhost:8080/",
          "height": 34
        },
        "outputId": "cdb2de42-7dcb-48c8-8d4c-0bab3f4d2795"
      },
      "source": [
        "test3(50,5)         #argument reassignment"
      ],
      "execution_count": 147,
      "outputs": [
        {
          "output_type": "stream",
          "text": [
            "45 , 55 , 250 , 10\n"
          ],
          "name": "stdout"
        }
      ]
    },
    {
      "cell_type": "code",
      "metadata": {
        "id": "nBnZNpw3RjHs",
        "colab_type": "code",
        "colab": {}
      },
      "source": [
        "def fn(m,n):\n",
        "    return m+n,m*n,m-n"
      ],
      "execution_count": 0,
      "outputs": []
    },
    {
      "cell_type": "code",
      "metadata": {
        "id": "glulF7OdRyBp",
        "colab_type": "code",
        "colab": {}
      },
      "source": [
        "x,y,z = fn(9,17)             #here '_' refers to place holder"
      ],
      "execution_count": 0,
      "outputs": []
    },
    {
      "cell_type": "code",
      "metadata": {
        "id": "mWTC2mu4VHYL",
        "colab_type": "code",
        "colab": {
          "base_uri": "https://localhost:8080/",
          "height": 34
        },
        "outputId": "99e083db-02cc-42c0-9ff7-af1c9351849e"
      },
      "source": [
        "z"
      ],
      "execution_count": 150,
      "outputs": [
        {
          "output_type": "execute_result",
          "data": {
            "text/plain": [
              "-8"
            ]
          },
          "metadata": {
            "tags": []
          },
          "execution_count": 150
        }
      ]
    },
    {
      "cell_type": "code",
      "metadata": {
        "id": "PLNc3gsIVLAJ",
        "colab_type": "code",
        "colab": {
          "base_uri": "https://localhost:8080/",
          "height": 34
        },
        "outputId": "1d216964-139b-4781-b7e7-67c1f167a09a"
      },
      "source": [
        "y"
      ],
      "execution_count": 151,
      "outputs": [
        {
          "output_type": "execute_result",
          "data": {
            "text/plain": [
              "153"
            ]
          },
          "metadata": {
            "tags": []
          },
          "execution_count": 151
        }
      ]
    },
    {
      "cell_type": "code",
      "metadata": {
        "id": "bnb6gJBBJ52r",
        "colab_type": "code",
        "colab": {
          "base_uri": "https://localhost:8080/",
          "height": 34
        },
        "outputId": "521084bd-8fc8-475d-cde4-9a2f33b3b833"
      },
      "source": [
        "x"
      ],
      "execution_count": 152,
      "outputs": [
        {
          "output_type": "execute_result",
          "data": {
            "text/plain": [
              "26"
            ]
          },
          "metadata": {
            "tags": []
          },
          "execution_count": 152
        }
      ]
    },
    {
      "cell_type": "code",
      "metadata": {
        "id": "uj92Qa5iVXU8",
        "colab_type": "code",
        "colab": {}
      },
      "source": [
        "def fcn():\n",
        "    return 'psychology',{'k1':[2,5,8,1]},{1,5,7,1,12},(5,16,42,91,88)"
      ],
      "execution_count": 0,
      "outputs": []
    },
    {
      "cell_type": "code",
      "metadata": {
        "id": "R_RZno50WaYA",
        "colab_type": "code",
        "colab": {
          "base_uri": "https://localhost:8080/",
          "height": 34
        },
        "outputId": "95fa3c71-250d-4ad2-fc3b-d97b10213281"
      },
      "source": [
        "type(fcn())"
      ],
      "execution_count": 154,
      "outputs": [
        {
          "output_type": "execute_result",
          "data": {
            "text/plain": [
              "tuple"
            ]
          },
          "metadata": {
            "tags": []
          },
          "execution_count": 154
        }
      ]
    },
    {
      "cell_type": "code",
      "metadata": {
        "id": "jgPgD5OpWcKh",
        "colab_type": "code",
        "colab": {}
      },
      "source": [
        "_,x,y,_ = fcn()"
      ],
      "execution_count": 0,
      "outputs": []
    },
    {
      "cell_type": "code",
      "metadata": {
        "id": "le5yZZ-RWwCj",
        "colab_type": "code",
        "colab": {
          "base_uri": "https://localhost:8080/",
          "height": 34
        },
        "outputId": "b640f7f1-9576-4096-eec8-5d068b5f4c73"
      },
      "source": [
        "print(_,x,y,_)      # _ is over-written and gives the updated result "
      ],
      "execution_count": 156,
      "outputs": [
        {
          "output_type": "stream",
          "text": [
            "(5, 16, 42, 91, 88) {'k1': [2, 5, 8, 1]} {1, 12, 5, 7} (5, 16, 42, 91, 88)\n"
          ],
          "name": "stdout"
        }
      ]
    },
    {
      "cell_type": "code",
      "metadata": {
        "id": "YoU4O60jWxJc",
        "colab_type": "code",
        "colab": {}
      },
      "source": [
        "# Sample question -1\n",
        "## To check whether a number is prime or not\n",
        "\n",
        "def prime(num):\n",
        "    for i in range(2,num):\n",
        "        if num%i == 0:\n",
        "            print('Not a prime number')\n",
        "            break\n",
        "    else:\n",
        "        print('Definitely, a prime number')"
      ],
      "execution_count": 0,
      "outputs": []
    },
    {
      "cell_type": "code",
      "metadata": {
        "id": "s6WMPZcUYFdp",
        "colab_type": "code",
        "colab": {
          "base_uri": "https://localhost:8080/",
          "height": 34
        },
        "outputId": "4ed7ae26-ce14-4062-b6cf-2519818d4bf8"
      },
      "source": [
        "prime(77\n",
        "      )"
      ],
      "execution_count": 158,
      "outputs": [
        {
          "output_type": "stream",
          "text": [
            "Not a prime number\n"
          ],
          "name": "stdout"
        }
      ]
    },
    {
      "cell_type": "code",
      "metadata": {
        "id": "gbKj-HmNYKGN",
        "colab_type": "code",
        "colab": {
          "base_uri": "https://localhost:8080/",
          "height": 34
        },
        "outputId": "5b74dfd7-7ad1-4e2e-c7e1-779faada461d"
      },
      "source": [
        "prime(59)"
      ],
      "execution_count": 159,
      "outputs": [
        {
          "output_type": "stream",
          "text": [
            "Definitely, a prime number\n"
          ],
          "name": "stdout"
        }
      ]
    },
    {
      "cell_type": "code",
      "metadata": {
        "id": "sDDLQ45MbRfl",
        "colab_type": "code",
        "colab": {}
      },
      "source": [
        "# Sample question -2\n",
        "#Print fibonacci series in the given range\n",
        "\n",
        "def fib(n):\n",
        "    a = 1\n",
        "    b = 1\n",
        "    for i in range(n):\n",
        "       print(a)\n",
        "       a,b = b,a+b"
      ],
      "execution_count": 0,
      "outputs": []
    },
    {
      "cell_type": "code",
      "metadata": {
        "id": "TH0XEgmIb6zA",
        "colab_type": "code",
        "colab": {
          "base_uri": "https://localhost:8080/",
          "height": 187
        },
        "outputId": "16cca12a-5d9d-4add-81d0-4617a520cc5c"
      },
      "source": [
        "fib(10)"
      ],
      "execution_count": 161,
      "outputs": [
        {
          "output_type": "stream",
          "text": [
            "1\n",
            "1\n",
            "2\n",
            "3\n",
            "5\n",
            "8\n",
            "13\n",
            "21\n",
            "34\n",
            "55\n"
          ],
          "name": "stdout"
        }
      ]
    },
    {
      "cell_type": "markdown",
      "metadata": {
        "id": "7m6zQr-jdSWh",
        "colab_type": "text"
      },
      "source": [
        "# **Iterable and Iterator**"
      ]
    },
    {
      "cell_type": "code",
      "metadata": {
        "id": "QYNoIPw9dbiv",
        "colab_type": "code",
        "colab": {}
      },
      "source": [
        "#for i in 3:\n",
        "#    pass                        'int' object is not iterable"
      ],
      "execution_count": 0,
      "outputs": []
    },
    {
      "cell_type": "code",
      "metadata": {
        "id": "hDb7NkpS-MmB",
        "colab_type": "code",
        "colab": {}
      },
      "source": [
        "for i in 'amar':\n",
        "    pass                        #'str' object is iterable"
      ],
      "execution_count": 0,
      "outputs": []
    },
    {
      "cell_type": "code",
      "metadata": {
        "id": "qsm8CSic-kc4",
        "colab_type": "code",
        "colab": {}
      },
      "source": [
        "for i in [2,8,6,15]:\n",
        "    pass                        #'list' object is iterable"
      ],
      "execution_count": 0,
      "outputs": []
    },
    {
      "cell_type": "code",
      "metadata": {
        "id": "ynvJczD7-3k_",
        "colab_type": "code",
        "colab": {}
      },
      "source": [
        "for i in (4,5,6):\n",
        "    pass                       #'tuple' object is iterable"
      ],
      "execution_count": 0,
      "outputs": []
    },
    {
      "cell_type": "code",
      "metadata": {
        "id": "xuym-nrG-_2p",
        "colab_type": "code",
        "colab": {}
      },
      "source": [
        "for i in {'k1':'tech','k2':[5,8,2]}:\n",
        "    pass                                #'dict' object is iterable"
      ],
      "execution_count": 0,
      "outputs": []
    },
    {
      "cell_type": "markdown",
      "metadata": {
        "id": "r62enQuP_aV3",
        "colab_type": "text"
      },
      "source": [
        "\n",
        "\n",
        "*   Iterable - an entity or object that we can make as an iterator.\n",
        "*   Iterator - an object that we can traverse through all the values.\n",
        "\n",
        "Data can't be extracted if object is not an iterable, and if iterable, it can\n",
        "be converted to an iterator object using iter() and next() then data can be extracted individually."
      ]
    },
    {
      "cell_type": "code",
      "metadata": {
        "id": "YY6dsFEV_NJE",
        "colab_type": "code",
        "colab": {
          "base_uri": "https://localhost:8080/",
          "height": 153
        },
        "outputId": "7ca19c78-eb67-475a-d851-eb1913567d94"
      },
      "source": [
        "for i in 'football':\n",
        "    print(i)"
      ],
      "execution_count": 167,
      "outputs": [
        {
          "output_type": "stream",
          "text": [
            "f\n",
            "o\n",
            "o\n",
            "t\n",
            "b\n",
            "a\n",
            "l\n",
            "l\n"
          ],
          "name": "stdout"
        }
      ]
    },
    {
      "cell_type": "code",
      "metadata": {
        "id": "Cs-iYVY-CEYA",
        "colab_type": "code",
        "colab": {}
      },
      "source": [
        "#next('football')        'str' object is not an iterator"
      ],
      "execution_count": 0,
      "outputs": []
    },
    {
      "cell_type": "code",
      "metadata": {
        "id": "3d15ii8tCItv",
        "colab_type": "code",
        "colab": {
          "base_uri": "https://localhost:8080/",
          "height": 34
        },
        "outputId": "72ee34f7-595c-4722-e41a-052af890cead"
      },
      "source": [
        "iter('football')"
      ],
      "execution_count": 169,
      "outputs": [
        {
          "output_type": "execute_result",
          "data": {
            "text/plain": [
              "<str_iterator at 0x7f6f8c1547f0>"
            ]
          },
          "metadata": {
            "tags": []
          },
          "execution_count": 169
        }
      ]
    },
    {
      "cell_type": "code",
      "metadata": {
        "id": "Bko8EiwFCYOv",
        "colab_type": "code",
        "colab": {}
      },
      "source": [
        "#next(iter('football'))        if not stored in a variable,it gives only the first char"
      ],
      "execution_count": 0,
      "outputs": []
    },
    {
      "cell_type": "code",
      "metadata": {
        "id": "b2cbhahaCb4p",
        "colab_type": "code",
        "colab": {}
      },
      "source": [
        "v = iter('football')"
      ],
      "execution_count": 0,
      "outputs": []
    },
    {
      "cell_type": "code",
      "metadata": {
        "id": "OApE3OJbDdu2",
        "colab_type": "code",
        "colab": {
          "base_uri": "https://localhost:8080/",
          "height": 34
        },
        "outputId": "e30962d7-6329-451c-dfed-8f5f5754fc12"
      },
      "source": [
        "type(v)"
      ],
      "execution_count": 172,
      "outputs": [
        {
          "output_type": "execute_result",
          "data": {
            "text/plain": [
              "str_iterator"
            ]
          },
          "metadata": {
            "tags": []
          },
          "execution_count": 172
        }
      ]
    },
    {
      "cell_type": "code",
      "metadata": {
        "id": "3jw2DvuRC4wi",
        "colab_type": "code",
        "colab": {
          "base_uri": "https://localhost:8080/",
          "height": 34
        },
        "outputId": "bfe25023-aaf6-4316-fa87-cda80172d267"
      },
      "source": [
        "next(v)     #next() doesnot know when to stop, by executing the entire dataset it gives exception."
      ],
      "execution_count": 173,
      "outputs": [
        {
          "output_type": "execute_result",
          "data": {
            "text/plain": [
              "'f'"
            ]
          },
          "metadata": {
            "tags": []
          },
          "execution_count": 173
        }
      ]
    },
    {
      "cell_type": "markdown",
      "metadata": {
        "id": "UZb_G-pxETvX",
        "colab_type": "text"
      },
      "source": [
        "# **Generator**"
      ]
    },
    {
      "cell_type": "markdown",
      "metadata": {
        "id": "PZk4nAjOEgKQ",
        "colab_type": "text"
      },
      "source": [
        "It helps in generating a new dataset by rememebering a fact that what I have generated the last time."
      ]
    },
    {
      "cell_type": "code",
      "metadata": {
        "id": "h_CGLYdXEaN4",
        "colab_type": "code",
        "colab": {
          "base_uri": "https://localhost:8080/",
          "height": 34
        },
        "outputId": "097f9f35-9b5b-4f8d-d8ab-9e4dd72227b3"
      },
      "source": [
        "range(5)           #range() is a generator"
      ],
      "execution_count": 174,
      "outputs": [
        {
          "output_type": "execute_result",
          "data": {
            "text/plain": [
              "range(0, 5)"
            ]
          },
          "metadata": {
            "tags": []
          },
          "execution_count": 174
        }
      ]
    },
    {
      "cell_type": "code",
      "metadata": {
        "id": "cuy3xDe5E9yU",
        "colab_type": "code",
        "colab": {
          "base_uri": "https://localhost:8080/",
          "height": 34
        },
        "outputId": "8c14d094-8382-4017-aa41-586b5e518db3"
      },
      "source": [
        "type(range(5))"
      ],
      "execution_count": 175,
      "outputs": [
        {
          "output_type": "execute_result",
          "data": {
            "text/plain": [
              "range"
            ]
          },
          "metadata": {
            "tags": []
          },
          "execution_count": 175
        }
      ]
    },
    {
      "cell_type": "code",
      "metadata": {
        "id": "89VKO5CzFCpW",
        "colab_type": "code",
        "colab": {
          "base_uri": "https://localhost:8080/",
          "height": 102
        },
        "outputId": "6929e546-2f19-428b-b5b0-1f3d8ff62dae"
      },
      "source": [
        "for i in range(5):\n",
        "    print(i\n",
        "          )"
      ],
      "execution_count": 176,
      "outputs": [
        {
          "output_type": "stream",
          "text": [
            "0\n",
            "1\n",
            "2\n",
            "3\n",
            "4\n"
          ],
          "name": "stdout"
        }
      ]
    },
    {
      "cell_type": "code",
      "metadata": {
        "id": "HiekGC5QFMrd",
        "colab_type": "code",
        "colab": {}
      },
      "source": [
        "#next(range(5))              'range' object is not an iterator"
      ],
      "execution_count": 0,
      "outputs": []
    },
    {
      "cell_type": "code",
      "metadata": {
        "id": "i0hyJFCEFQHp",
        "colab_type": "code",
        "colab": {}
      },
      "source": [
        "d =iter(range(5))"
      ],
      "execution_count": 0,
      "outputs": []
    },
    {
      "cell_type": "code",
      "metadata": {
        "id": "vcAWdN3GFtNE",
        "colab_type": "code",
        "colab": {
          "base_uri": "https://localhost:8080/",
          "height": 34
        },
        "outputId": "4207ac99-4d48-4ff5-c23a-ab24871c0b66"
      },
      "source": [
        "type(d)"
      ],
      "execution_count": 179,
      "outputs": [
        {
          "output_type": "execute_result",
          "data": {
            "text/plain": [
              "range_iterator"
            ]
          },
          "metadata": {
            "tags": []
          },
          "execution_count": 179
        }
      ]
    },
    {
      "cell_type": "code",
      "metadata": {
        "id": "di4Ut4DcFvyJ",
        "colab_type": "code",
        "colab": {
          "base_uri": "https://localhost:8080/",
          "height": 34
        },
        "outputId": "f1cb2577-3965-4ee2-8179-43a3520cb2b4"
      },
      "source": [
        "next(d)"
      ],
      "execution_count": 180,
      "outputs": [
        {
          "output_type": "execute_result",
          "data": {
            "text/plain": [
              "0"
            ]
          },
          "metadata": {
            "tags": []
          },
          "execution_count": 180
        }
      ]
    },
    {
      "cell_type": "code",
      "metadata": {
        "id": "1kfSS7DNF1Kb",
        "colab_type": "code",
        "colab": {
          "base_uri": "https://localhost:8080/",
          "height": 119
        },
        "outputId": "d8c1ae63-8c89-459f-c315-34a0b5da6bc2"
      },
      "source": [
        "# Sample question\n",
        "#To print cube of numbers within a range\n",
        "\n",
        "def gencube(n):\n",
        "    for i in range(n):\n",
        "        print(i**3\n",
        "              )\n",
        "gencube(6)"
      ],
      "execution_count": 181,
      "outputs": [
        {
          "output_type": "stream",
          "text": [
            "0\n",
            "1\n",
            "8\n",
            "27\n",
            "64\n",
            "125\n"
          ],
          "name": "stdout"
        }
      ]
    },
    {
      "cell_type": "markdown",
      "metadata": {
        "id": "qXG6IroXHKYf",
        "colab_type": "text"
      },
      "source": [
        "Now use generator concept to generate individual data for the above program\n",
        "To do that we use yield keyword,for loop ,iter() and next(). "
      ]
    },
    {
      "cell_type": "code",
      "metadata": {
        "id": "SUfc_tWTHJ8Y",
        "colab_type": "code",
        "colab": {}
      },
      "source": [
        "def gencube(m):\n",
        "    for j in range(m):\n",
        "        yield j**3"
      ],
      "execution_count": 0,
      "outputs": []
    },
    {
      "cell_type": "code",
      "metadata": {
        "id": "7UfmjADXICaK",
        "colab_type": "code",
        "colab": {
          "base_uri": "https://localhost:8080/",
          "height": 34
        },
        "outputId": "8f7715ff-94f8-4c47-bf0b-3ca96df3460e"
      },
      "source": [
        "type(gencube(7))"
      ],
      "execution_count": 183,
      "outputs": [
        {
          "output_type": "execute_result",
          "data": {
            "text/plain": [
              "generator"
            ]
          },
          "metadata": {
            "tags": []
          },
          "execution_count": 183
        }
      ]
    },
    {
      "cell_type": "code",
      "metadata": {
        "id": "xyRrkmRKIHRc",
        "colab_type": "code",
        "colab": {
          "base_uri": "https://localhost:8080/",
          "height": 34
        },
        "outputId": "1eb26cb1-be27-4725-adea-71ab6206f407"
      },
      "source": [
        "gencube(7)"
      ],
      "execution_count": 184,
      "outputs": [
        {
          "output_type": "execute_result",
          "data": {
            "text/plain": [
              "<generator object gencube at 0x7f6f8c155200>"
            ]
          },
          "metadata": {
            "tags": []
          },
          "execution_count": 184
        }
      ]
    },
    {
      "cell_type": "code",
      "metadata": {
        "id": "nxt4EGunIOW9",
        "colab_type": "code",
        "colab": {
          "base_uri": "https://localhost:8080/",
          "height": 136
        },
        "outputId": "45332fec-a283-4b7f-d4e5-802bbd2f6b15"
      },
      "source": [
        "for j in gencube(7):\n",
        "    print(j)"
      ],
      "execution_count": 185,
      "outputs": [
        {
          "output_type": "stream",
          "text": [
            "0\n",
            "1\n",
            "8\n",
            "27\n",
            "64\n",
            "125\n",
            "216\n"
          ],
          "name": "stdout"
        }
      ]
    },
    {
      "cell_type": "code",
      "metadata": {
        "id": "2X-tO9T3IYuv",
        "colab_type": "code",
        "colab": {}
      },
      "source": [
        "h = iter(gencube(7))"
      ],
      "execution_count": 0,
      "outputs": []
    },
    {
      "cell_type": "code",
      "metadata": {
        "id": "CQ4pKJQmImcg",
        "colab_type": "code",
        "colab": {
          "base_uri": "https://localhost:8080/",
          "height": 34
        },
        "outputId": "0aacde60-903b-4bf1-d352-9528aafaaf53"
      },
      "source": [
        "type(h)"
      ],
      "execution_count": 187,
      "outputs": [
        {
          "output_type": "execute_result",
          "data": {
            "text/plain": [
              "generator"
            ]
          },
          "metadata": {
            "tags": []
          },
          "execution_count": 187
        }
      ]
    },
    {
      "cell_type": "code",
      "metadata": {
        "id": "2364Cs45In-F",
        "colab_type": "code",
        "colab": {
          "base_uri": "https://localhost:8080/",
          "height": 34
        },
        "outputId": "6016e6d1-1673-4f37-8b2a-53684b67cc62"
      },
      "source": [
        "next(h)"
      ],
      "execution_count": 188,
      "outputs": [
        {
          "output_type": "execute_result",
          "data": {
            "text/plain": [
              "0"
            ]
          },
          "metadata": {
            "tags": []
          },
          "execution_count": 188
        }
      ]
    },
    {
      "cell_type": "code",
      "metadata": {
        "id": "L55UtGbpIsAT",
        "colab_type": "code",
        "colab": {}
      },
      "source": [
        ""
      ],
      "execution_count": 0,
      "outputs": []
    }
  ]
}
