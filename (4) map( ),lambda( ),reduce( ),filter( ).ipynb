{
  "nbformat": 4,
  "nbformat_minor": 0,
  "metadata": {
    "colab": {
      "name": "(4) map(), lambda(), reduce(),filter().ipynb",
      "provenance": []
    },
    "kernelspec": {
      "name": "python3",
      "display_name": "Python 3"
    }
  },
  "cells": [
    {
      "cell_type": "markdown",
      "metadata": {
        "id": "2oURA-B-w9RF",
        "colab_type": "text"
      },
      "source": [
        "# **map( )**"
      ]
    },
    {
      "cell_type": "code",
      "metadata": {
        "id": "-de7iYhpxFKr",
        "colab_type": "code",
        "colab": {}
      },
      "source": [
        "def power(n):\n",
        "        return n**3"
      ],
      "execution_count": 0,
      "outputs": []
    },
    {
      "cell_type": "code",
      "metadata": {
        "id": "5xj3Tp-_yAb9",
        "colab_type": "code",
        "colab": {
          "base_uri": "https://localhost:8080/",
          "height": 34
        },
        "outputId": "d8938649-be62-420e-a8ad-4efafa6bac1f"
      },
      "source": [
        "power(4)"
      ],
      "execution_count": 78,
      "outputs": [
        {
          "output_type": "execute_result",
          "data": {
            "text/plain": [
              "64"
            ]
          },
          "metadata": {
            "tags": []
          },
          "execution_count": 78
        }
      ]
    },
    {
      "cell_type": "code",
      "metadata": {
        "id": "sFE-lLbeyIBh",
        "colab_type": "code",
        "colab": {}
      },
      "source": [
        "t = (1,2,3,8,6)"
      ],
      "execution_count": 0,
      "outputs": []
    },
    {
      "cell_type": "code",
      "metadata": {
        "id": "D1sz8h5XyLgG",
        "colab_type": "code",
        "colab": {
          "base_uri": "https://localhost:8080/",
          "height": 34
        },
        "outputId": "35fe2190-5ef3-4705-b1f8-2a86d494898a"
      },
      "source": [
        "map(power,t)               # map() does mapping"
      ],
      "execution_count": 80,
      "outputs": [
        {
          "output_type": "execute_result",
          "data": {
            "text/plain": [
              "<map at 0x7ff291f07a90>"
            ]
          },
          "metadata": {
            "tags": []
          },
          "execution_count": 80
        }
      ]
    },
    {
      "cell_type": "code",
      "metadata": {
        "id": "LV1QI6N8zdDx",
        "colab_type": "code",
        "colab": {
          "base_uri": "https://localhost:8080/",
          "height": 34
        },
        "outputId": "d6c9a337-2c7e-4097-a72a-1efe3c7fb676"
      },
      "source": [
        "type(map(power,t))"
      ],
      "execution_count": 81,
      "outputs": [
        {
          "output_type": "execute_result",
          "data": {
            "text/plain": [
              "map"
            ]
          },
          "metadata": {
            "tags": []
          },
          "execution_count": 81
        }
      ]
    },
    {
      "cell_type": "code",
      "metadata": {
        "id": "fdNdAljtybm_",
        "colab_type": "code",
        "colab": {
          "base_uri": "https://localhost:8080/",
          "height": 34
        },
        "outputId": "f1fb8bd5-3ade-4684-f0d4-c7bd47808a6c"
      },
      "source": [
        "tuple(map(power,t))"
      ],
      "execution_count": 82,
      "outputs": [
        {
          "output_type": "execute_result",
          "data": {
            "text/plain": [
              "(1, 8, 27, 512, 216)"
            ]
          },
          "metadata": {
            "tags": []
          },
          "execution_count": 82
        }
      ]
    },
    {
      "cell_type": "code",
      "metadata": {
        "id": "h7fordvHylla",
        "colab_type": "code",
        "colab": {
          "base_uri": "https://localhost:8080/",
          "height": 102
        },
        "outputId": "ced6db61-9679-4fc3-9e2f-34089da4c57c"
      },
      "source": [
        "for i in map(power,t):                  #map() behaves like generator\n",
        "    print(i)"
      ],
      "execution_count": 83,
      "outputs": [
        {
          "output_type": "stream",
          "text": [
            "1\n",
            "8\n",
            "27\n",
            "512\n",
            "216\n"
          ],
          "name": "stdout"
        }
      ]
    },
    {
      "cell_type": "code",
      "metadata": {
        "id": "xPQZzGTJzu8i",
        "colab_type": "code",
        "colab": {}
      },
      "source": [
        "m = iter(map(power,t))"
      ],
      "execution_count": 0,
      "outputs": []
    },
    {
      "cell_type": "code",
      "metadata": {
        "id": "a4rqc4Zoz5y9",
        "colab_type": "code",
        "colab": {
          "base_uri": "https://localhost:8080/",
          "height": 34
        },
        "outputId": "84783204-140b-48a6-b7f3-393380056af1"
      },
      "source": [
        "next(m)"
      ],
      "execution_count": 121,
      "outputs": [
        {
          "output_type": "execute_result",
          "data": {
            "text/plain": [
              "512"
            ]
          },
          "metadata": {
            "tags": []
          },
          "execution_count": 121
        }
      ]
    },
    {
      "cell_type": "markdown",
      "metadata": {
        "id": "iY2J7iFk0X-H",
        "colab_type": "text"
      },
      "source": [
        "# **lambda( )**"
      ]
    },
    {
      "cell_type": "markdown",
      "metadata": {
        "id": "i6AUEwmI0-W7",
        "colab_type": "text"
      },
      "source": [
        "In general, lambda is a keyword"
      ]
    },
    {
      "cell_type": "code",
      "metadata": {
        "id": "MOfLEYAN0dzd",
        "colab_type": "code",
        "colab": {}
      },
      "source": [
        "def fn(num):\n",
        "    return num*5"
      ],
      "execution_count": 0,
      "outputs": []
    },
    {
      "cell_type": "code",
      "metadata": {
        "id": "LQaeCym20ryJ",
        "colab_type": "code",
        "colab": {
          "base_uri": "https://localhost:8080/",
          "height": 34
        },
        "outputId": "ab80ecb5-249f-45aa-eb44-be2351b4fabe"
      },
      "source": [
        "fn(10)"
      ],
      "execution_count": 87,
      "outputs": [
        {
          "output_type": "execute_result",
          "data": {
            "text/plain": [
              "50"
            ]
          },
          "metadata": {
            "tags": []
          },
          "execution_count": 87
        }
      ]
    },
    {
      "cell_type": "code",
      "metadata": {
        "id": "tcgxITjy0v7B",
        "colab_type": "code",
        "colab": {}
      },
      "source": [
        "l = [5,9,2,7,3]"
      ],
      "execution_count": 0,
      "outputs": []
    },
    {
      "cell_type": "code",
      "metadata": {
        "id": "o4BQQ60d00kR",
        "colab_type": "code",
        "colab": {
          "base_uri": "https://localhost:8080/",
          "height": 34
        },
        "outputId": "eed1a1fd-b851-40b1-e935-feb526e1edf6"
      },
      "source": [
        "list(map(lambda num:num*5,l))          #here num is the input and num*5 is the output"
      ],
      "execution_count": 89,
      "outputs": [
        {
          "output_type": "execute_result",
          "data": {
            "text/plain": [
              "[25, 45, 10, 35, 15]"
            ]
          },
          "metadata": {
            "tags": []
          },
          "execution_count": 89
        }
      ]
    },
    {
      "cell_type": "code",
      "metadata": {
        "id": "jPipL1fb1Noz",
        "colab_type": "code",
        "colab": {
          "base_uri": "https://localhost:8080/",
          "height": 34
        },
        "outputId": "bc206c8b-01bb-4bd7-9545-efc69b74722a"
      },
      "source": [
        "type(map(lambda num:num*5,l))"
      ],
      "execution_count": 90,
      "outputs": [
        {
          "output_type": "execute_result",
          "data": {
            "text/plain": [
              "map"
            ]
          },
          "metadata": {
            "tags": []
          },
          "execution_count": 90
        }
      ]
    },
    {
      "cell_type": "code",
      "metadata": {
        "id": "desMEuYB1m8-",
        "colab_type": "code",
        "colab": {
          "base_uri": "https://localhost:8080/",
          "height": 34
        },
        "outputId": "c4a35192-9cf5-410c-b4a3-ebe2fc28ebe5"
      },
      "source": [
        "map(lambda num:num*5,l)"
      ],
      "execution_count": 91,
      "outputs": [
        {
          "output_type": "execute_result",
          "data": {
            "text/plain": [
              "<map at 0x7ff291f09518>"
            ]
          },
          "metadata": {
            "tags": []
          },
          "execution_count": 91
        }
      ]
    },
    {
      "cell_type": "code",
      "metadata": {
        "id": "J_VYcwo61wq1",
        "colab_type": "code",
        "colab": {
          "base_uri": "https://localhost:8080/",
          "height": 102
        },
        "outputId": "fdf0fc2e-b464-4c21-aec0-bf9b9649b334"
      },
      "source": [
        "for j in map(lambda num:num*5,l):\n",
        "    print(j)"
      ],
      "execution_count": 92,
      "outputs": [
        {
          "output_type": "stream",
          "text": [
            "25\n",
            "45\n",
            "10\n",
            "35\n",
            "15\n"
          ],
          "name": "stdout"
        }
      ]
    },
    {
      "cell_type": "code",
      "metadata": {
        "id": "7-An5rFn17LZ",
        "colab_type": "code",
        "colab": {}
      },
      "source": [
        "r = iter(map(lambda num:num*5,l))"
      ],
      "execution_count": 0,
      "outputs": []
    },
    {
      "cell_type": "code",
      "metadata": {
        "id": "dgLBffZd2O-7",
        "colab_type": "code",
        "colab": {}
      },
      "source": [
        "x = lambda num:num*5"
      ],
      "execution_count": 0,
      "outputs": []
    },
    {
      "cell_type": "code",
      "metadata": {
        "id": "tI3os7402WRV",
        "colab_type": "code",
        "colab": {}
      },
      "source": [
        "r = iter(map(x,l))"
      ],
      "execution_count": 0,
      "outputs": []
    },
    {
      "cell_type": "code",
      "metadata": {
        "id": "OXWUqeBI2CSV",
        "colab_type": "code",
        "colab": {
          "base_uri": "https://localhost:8080/",
          "height": 34
        },
        "outputId": "4670ab35-7170-4cd5-9f0d-95b1fd1f893d"
      },
      "source": [
        "next(r)"
      ],
      "execution_count": 118,
      "outputs": [
        {
          "output_type": "execute_result",
          "data": {
            "text/plain": [
              "45"
            ]
          },
          "metadata": {
            "tags": []
          },
          "execution_count": 118
        }
      ]
    },
    {
      "cell_type": "code",
      "metadata": {
        "id": "0JU9_hk12EGx",
        "colab_type": "code",
        "colab": {}
      },
      "source": [
        "a = [1,2,52,1,220,236]\n",
        "b = [2,59,3,10,5,8745,55]\n",
        "c = [58,6,55,62,20,500,55,5,87,42]"
      ],
      "execution_count": 0,
      "outputs": []
    },
    {
      "cell_type": "code",
      "metadata": {
        "id": "Rkxucbz2251V",
        "colab_type": "code",
        "colab": {}
      },
      "source": [
        "def summation(x,y,z):\n",
        "    return x+y+z"
      ],
      "execution_count": 0,
      "outputs": []
    },
    {
      "cell_type": "code",
      "metadata": {
        "id": "8_8mz5Np2qhf",
        "colab_type": "code",
        "colab": {
          "base_uri": "https://localhost:8080/",
          "height": 34
        },
        "outputId": "8e06c6d0-3db2-4257-d591-72a3e71776dd"
      },
      "source": [
        "list(map(lambda x,y,z:x+y+z,a,b,c))"
      ],
      "execution_count": 99,
      "outputs": [
        {
          "output_type": "execute_result",
          "data": {
            "text/plain": [
              "[61, 67, 110, 73, 245, 9481]"
            ]
          },
          "metadata": {
            "tags": []
          },
          "execution_count": 99
        }
      ]
    },
    {
      "cell_type": "markdown",
      "metadata": {
        "id": "KMzUjaaU3TRg",
        "colab_type": "text"
      },
      "source": [
        "# **reduce( )**"
      ]
    },
    {
      "cell_type": "markdown",
      "metadata": {
        "id": "FybMjlPI3o3F",
        "colab_type": "text"
      },
      "source": [
        "reduce() function is not by-default, so we import"
      ]
    },
    {
      "cell_type": "code",
      "metadata": {
        "id": "UaTu-BqT3YOC",
        "colab_type": "code",
        "colab": {}
      },
      "source": [
        "from functools import reduce"
      ],
      "execution_count": 0,
      "outputs": []
    },
    {
      "cell_type": "code",
      "metadata": {
        "id": "WIxQOcbs31Yv",
        "colab_type": "code",
        "colab": {
          "base_uri": "https://localhost:8080/",
          "height": 34
        },
        "outputId": "16458139-3acd-4dbe-bea5-b4b9c8cef0a2"
      },
      "source": [
        "def difference(n,m):\n",
        "    return n-m\n",
        "\n",
        "st = {1,5,6,9,20,12,45}\n",
        "reduce(difference,st)                # reduce() aggregates by reducing"
      ],
      "execution_count": 101,
      "outputs": [
        {
          "output_type": "execute_result",
          "data": {
            "text/plain": [
              "-96"
            ]
          },
          "metadata": {
            "tags": []
          },
          "execution_count": 101
        }
      ]
    },
    {
      "cell_type": "code",
      "metadata": {
        "id": "llZm4e304Qyv",
        "colab_type": "code",
        "colab": {
          "base_uri": "https://localhost:8080/",
          "height": 34
        },
        "outputId": "be2233fe-4066-475d-ee35-57aad468d8bc"
      },
      "source": [
        "reduce(lambda n,m:n-m,st)"
      ],
      "execution_count": 102,
      "outputs": [
        {
          "output_type": "execute_result",
          "data": {
            "text/plain": [
              "-96"
            ]
          },
          "metadata": {
            "tags": []
          },
          "execution_count": 102
        }
      ]
    },
    {
      "cell_type": "code",
      "metadata": {
        "id": "9A8RYmW86BCC",
        "colab_type": "code",
        "colab": {
          "base_uri": "https://localhost:8080/",
          "height": 34
        },
        "outputId": "ced5a087-d7ea-4487-92bc-16018bcbb06a"
      },
      "source": [
        "reduce(lambda a,b:a*b,st)"
      ],
      "execution_count": 103,
      "outputs": [
        {
          "output_type": "execute_result",
          "data": {
            "text/plain": [
              "2916000"
            ]
          },
          "metadata": {
            "tags": []
          },
          "execution_count": 103
        }
      ]
    },
    {
      "cell_type": "markdown",
      "metadata": {
        "id": "Z0kOT_3e6p4s",
        "colab_type": "text"
      },
      "source": [
        "# **filter( )**"
      ]
    },
    {
      "cell_type": "code",
      "metadata": {
        "id": "blbxiLUq6tlh",
        "colab_type": "code",
        "colab": {}
      },
      "source": [
        "# Sample question-\n",
        "#To extract odd numbers\n",
        "\n",
        "def odd(x):\n",
        "    if x%2 !=0:\n",
        "        return x\n",
        "    \n",
        "l = [66,59,26,221,37,55,111,88]\n"
      ],
      "execution_count": 0,
      "outputs": []
    },
    {
      "cell_type": "code",
      "metadata": {
        "id": "NUySL5Y_7aVE",
        "colab_type": "code",
        "colab": {
          "base_uri": "https://localhost:8080/",
          "height": 34
        },
        "outputId": "74e4d7a7-87f0-4702-8c39-427fd958b2a3"
      },
      "source": [
        "list(filter(odd,l))"
      ],
      "execution_count": 105,
      "outputs": [
        {
          "output_type": "execute_result",
          "data": {
            "text/plain": [
              "[59, 221, 37, 55, 111]"
            ]
          },
          "metadata": {
            "tags": []
          },
          "execution_count": 105
        }
      ]
    },
    {
      "cell_type": "code",
      "metadata": {
        "id": "qju6yz5-8rKH",
        "colab_type": "code",
        "colab": {
          "base_uri": "https://localhost:8080/",
          "height": 34
        },
        "outputId": "c7d9434a-fd39-47ed-b575-12c1c95086a3"
      },
      "source": [
        "filter(lambda a:a%2 != 0,l)"
      ],
      "execution_count": 106,
      "outputs": [
        {
          "output_type": "execute_result",
          "data": {
            "text/plain": [
              "<filter at 0x7ff291e9d5c0>"
            ]
          },
          "metadata": {
            "tags": []
          },
          "execution_count": 106
        }
      ]
    },
    {
      "cell_type": "code",
      "metadata": {
        "id": "k2qt2HJR7meK",
        "colab_type": "code",
        "colab": {}
      },
      "source": [
        "k = filter(lambda x:x%2 != 0,l)"
      ],
      "execution_count": 0,
      "outputs": []
    },
    {
      "cell_type": "code",
      "metadata": {
        "id": "OjRC2uGl8Mjv",
        "colab_type": "code",
        "colab": {
          "base_uri": "https://localhost:8080/",
          "height": 34
        },
        "outputId": "867c2f6d-63fd-4efd-a246-ebaed0c93885"
      },
      "source": [
        "type(k)"
      ],
      "execution_count": 108,
      "outputs": [
        {
          "output_type": "execute_result",
          "data": {
            "text/plain": [
              "filter"
            ]
          },
          "metadata": {
            "tags": []
          },
          "execution_count": 108
        }
      ]
    },
    {
      "cell_type": "code",
      "metadata": {
        "id": "oc9qr-NX8Cvx",
        "colab_type": "code",
        "colab": {
          "base_uri": "https://localhost:8080/",
          "height": 34
        },
        "outputId": "9adbdb6f-903a-4fed-83cb-3bd753ce2571"
      },
      "source": [
        "list(k)"
      ],
      "execution_count": 109,
      "outputs": [
        {
          "output_type": "execute_result",
          "data": {
            "text/plain": [
              "[59, 221, 37, 55, 111]"
            ]
          },
          "metadata": {
            "tags": []
          },
          "execution_count": 109
        }
      ]
    },
    {
      "cell_type": "code",
      "metadata": {
        "id": "IROAkEom9Kb6",
        "colab_type": "code",
        "colab": {
          "base_uri": "https://localhost:8080/",
          "height": 102
        },
        "outputId": "dd82b008-665f-4ca7-f88a-aa652fe808c3"
      },
      "source": [
        "for k in filter(lambda x:x%2 != 0,l):\n",
        "    print(k)"
      ],
      "execution_count": 113,
      "outputs": [
        {
          "output_type": "stream",
          "text": [
            "59\n",
            "221\n",
            "37\n",
            "55\n",
            "111\n"
          ],
          "name": "stdout"
        }
      ]
    },
    {
      "cell_type": "code",
      "metadata": {
        "id": "md06lOYx9PpR",
        "colab_type": "code",
        "colab": {}
      },
      "source": [
        "c = iter(filter(lambda x:x%2 !=0,l))"
      ],
      "execution_count": 0,
      "outputs": []
    },
    {
      "cell_type": "code",
      "metadata": {
        "id": "otaES-Ak974v",
        "colab_type": "code",
        "colab": {
          "base_uri": "https://localhost:8080/",
          "height": 34
        },
        "outputId": "5cc37f25-8150-4992-d6a1-25702650a1f9"
      },
      "source": [
        "next(c)"
      ],
      "execution_count": 117,
      "outputs": [
        {
          "output_type": "execute_result",
          "data": {
            "text/plain": [
              "37"
            ]
          },
          "metadata": {
            "tags": []
          },
          "execution_count": 117
        }
      ]
    }
  ]
}